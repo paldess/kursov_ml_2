{
 "cells": [
  {
   "cell_type": "code",
   "execution_count": 1,
   "id": "f8d62634",
   "metadata": {},
   "outputs": [],
   "source": [
    "import numpy as np\n",
    "import pandas as pd\n",
    "import matplotlib.pyplot as plt\n",
    "%matplotlib inline\n",
    "import warnings\n",
    "warnings.simplefilter('ignore')\n",
    "import seaborn as sns\n",
    "from sklearn.model_selection import train_test_split\n",
    "from sklearn.metrics import f1_score, recall_score, precision_score, confusion_matrix, classification_report, accuracy_score"
   ]
  },
  {
   "cell_type": "code",
   "execution_count": 2,
   "id": "d0c20d94",
   "metadata": {},
   "outputs": [],
   "source": [
    "plt.rcParams['figure.figsize']=(25, 8)"
   ]
  },
  {
   "cell_type": "code",
   "execution_count": 3,
   "id": "f4d0d05a",
   "metadata": {},
   "outputs": [
    {
     "name": "stdout",
     "output_type": "stream",
     "text": [
      "<class 'pandas.core.frame.DataFrame'>\n",
      "RangeIndex: 7500 entries, 0 to 7499\n",
      "Data columns (total 17 columns):\n",
      " #   Column                        Non-Null Count  Dtype  \n",
      "---  ------                        --------------  -----  \n",
      " 0   Home Ownership                7500 non-null   object \n",
      " 1   Annual Income                 5943 non-null   float64\n",
      " 2   Years in current job          7129 non-null   object \n",
      " 3   Tax Liens                     7500 non-null   float64\n",
      " 4   Number of Open Accounts       7500 non-null   float64\n",
      " 5   Years of Credit History       7500 non-null   float64\n",
      " 6   Maximum Open Credit           7500 non-null   float64\n",
      " 7   Number of Credit Problems     7500 non-null   float64\n",
      " 8   Months since last delinquent  3419 non-null   float64\n",
      " 9   Bankruptcies                  7486 non-null   float64\n",
      " 10  Purpose                       7500 non-null   object \n",
      " 11  Term                          7500 non-null   object \n",
      " 12  Current Loan Amount           7500 non-null   float64\n",
      " 13  Current Credit Balance        7500 non-null   float64\n",
      " 14  Monthly Debt                  7500 non-null   float64\n",
      " 15  Credit Score                  5943 non-null   float64\n",
      " 16  Credit Default                7500 non-null   int64  \n",
      "dtypes: float64(12), int64(1), object(4)\n",
      "memory usage: 996.2+ KB\n"
     ]
    }
   ],
   "source": [
    "data_read = pd.read_csv('course_project_train.csv')\n",
    "data_read.info()"
   ]
  },
  {
   "cell_type": "code",
   "execution_count": 4,
   "id": "fa29b2b0",
   "metadata": {},
   "outputs": [],
   "source": [
    "def renams(data):\n",
    "    name_columns = {'Home Ownership': 'домовладение', 'Annual Income': 'годовой доход', 'Years in current job': 'количество лет на текущем месте работы',\n",
    "            'Maximum Open Credit': 'наибольший открытый кредит', 'Number of Credit Problems': 'количество проблем с кредитом',\n",
    "            'Months since last delinquent': 'количество месяцев с последней просрочки платежа', 'Bankruptcies': 'банкротства',\n",
    "            'Purpose': 'цель кредита', 'Term': 'срок кредита', 'Current Loan Amount': 'текущая сумма кредита',\n",
    "            'Current Credit Balance': 'текущий кредитный баланс', 'Monthly Debt': 'ежемесячный долг', 'Credit Score': 'кредитный рейтинг',\n",
    "            'Credit Default': '0 - погашен вовремя, 1 - просрочка', 'Tax Liens': 'налоговые льготы', \n",
    "           'Number of Open Accounts': 'количество открытых счетов', 'Years of Credit History': 'количество лет кредитной истории'}\n",
    "    data.rename(columns=name_columns, inplace=True)\n",
    "    return data"
   ]
  },
  {
   "cell_type": "code",
   "execution_count": 5,
   "id": "729e40ba",
   "metadata": {},
   "outputs": [],
   "source": [
    "data_read = renams(data_read)"
   ]
  },
  {
   "cell_type": "code",
   "execution_count": 6,
   "id": "d89b0277",
   "metadata": {},
   "outputs": [],
   "source": [
    "data_read['кредитный рейтинг'][data_read['кредитный рейтинг']> 1000] = 0"
   ]
  },
  {
   "cell_type": "code",
   "execution_count": 10,
   "id": "a8d48507",
   "metadata": {},
   "outputs": [
    {
     "data": {
      "text/html": [
       "<div>\n",
       "<style scoped>\n",
       "    .dataframe tbody tr th:only-of-type {\n",
       "        vertical-align: middle;\n",
       "    }\n",
       "\n",
       "    .dataframe tbody tr th {\n",
       "        vertical-align: top;\n",
       "    }\n",
       "\n",
       "    .dataframe thead th {\n",
       "        text-align: right;\n",
       "    }\n",
       "</style>\n",
       "<table border=\"1\" class=\"dataframe\">\n",
       "  <thead>\n",
       "    <tr style=\"text-align: right;\">\n",
       "      <th></th>\n",
       "      <th>домовладение</th>\n",
       "      <th>годовой доход</th>\n",
       "      <th>количество лет на текущем месте работы</th>\n",
       "      <th>налоговые льготы</th>\n",
       "      <th>количество открытых счетов</th>\n",
       "      <th>количество лет кредитной истории</th>\n",
       "      <th>наибольший открытый кредит</th>\n",
       "      <th>количество проблем с кредитом</th>\n",
       "      <th>количество месяцев с последней просрочки платежа</th>\n",
       "      <th>банкротства</th>\n",
       "      <th>цель кредита</th>\n",
       "      <th>срок кредита</th>\n",
       "      <th>текущая сумма кредита</th>\n",
       "      <th>текущий кредитный баланс</th>\n",
       "      <th>ежемесячный долг</th>\n",
       "      <th>кредитный рейтинг</th>\n",
       "      <th>0 - погашен вовремя, 1 - просрочка</th>\n",
       "    </tr>\n",
       "  </thead>\n",
       "  <tbody>\n",
       "  </tbody>\n",
       "</table>\n",
       "</div>"
      ],
      "text/plain": [
       "Empty DataFrame\n",
       "Columns: [домовладение, годовой доход, количество лет на текущем месте работы, налоговые льготы, количество открытых счетов, количество лет кредитной истории, наибольший открытый кредит, количество проблем с кредитом, количество месяцев с последней просрочки платежа, банкротства, цель кредита, срок кредита, текущая сумма кредита, текущий кредитный баланс, ежемесячный долг, кредитный рейтинг, 0 - погашен вовремя, 1 - просрочка]\n",
       "Index: []"
      ]
     },
     "execution_count": 10,
     "metadata": {},
     "output_type": "execute_result"
    }
   ],
   "source": [
    "data_read[(data_read['текущая сумма кредита']>1000000)&(data_read['0 - погашен вовремя, 1 - просрочка']==1)]"
   ]
  },
  {
   "cell_type": "code",
   "execution_count": 11,
   "id": "bfd8fe9c",
   "metadata": {},
   "outputs": [
    {
     "data": {
      "text/html": [
       "<div>\n",
       "<style scoped>\n",
       "    .dataframe tbody tr th:only-of-type {\n",
       "        vertical-align: middle;\n",
       "    }\n",
       "\n",
       "    .dataframe tbody tr th {\n",
       "        vertical-align: top;\n",
       "    }\n",
       "\n",
       "    .dataframe thead th {\n",
       "        text-align: right;\n",
       "    }\n",
       "</style>\n",
       "<table border=\"1\" class=\"dataframe\">\n",
       "  <thead>\n",
       "    <tr style=\"text-align: right;\">\n",
       "      <th></th>\n",
       "      <th>домовладение</th>\n",
       "      <th>годовой доход</th>\n",
       "      <th>количество лет на текущем месте работы</th>\n",
       "      <th>налоговые льготы</th>\n",
       "      <th>количество открытых счетов</th>\n",
       "      <th>количество лет кредитной истории</th>\n",
       "      <th>наибольший открытый кредит</th>\n",
       "      <th>количество проблем с кредитом</th>\n",
       "      <th>количество месяцев с последней просрочки платежа</th>\n",
       "      <th>банкротства</th>\n",
       "      <th>цель кредита</th>\n",
       "      <th>срок кредита</th>\n",
       "      <th>текущая сумма кредита</th>\n",
       "      <th>текущий кредитный баланс</th>\n",
       "      <th>ежемесячный долг</th>\n",
       "      <th>кредитный рейтинг</th>\n",
       "      <th>0 - погашен вовремя, 1 - просрочка</th>\n",
       "    </tr>\n",
       "  </thead>\n",
       "  <tbody>\n",
       "    <tr>\n",
       "      <th>0</th>\n",
       "      <td>Own Home</td>\n",
       "      <td>482087.0</td>\n",
       "      <td>NaN</td>\n",
       "      <td>0.0</td>\n",
       "      <td>11.0</td>\n",
       "      <td>26.3</td>\n",
       "      <td>685960.0</td>\n",
       "      <td>1.0</td>\n",
       "      <td>NaN</td>\n",
       "      <td>1.0</td>\n",
       "      <td>debt consolidation</td>\n",
       "      <td>Short Term</td>\n",
       "      <td>99999999.0</td>\n",
       "      <td>47386.0</td>\n",
       "      <td>7914.0</td>\n",
       "      <td>749.0</td>\n",
       "      <td>0</td>\n",
       "    </tr>\n",
       "    <tr>\n",
       "      <th>1</th>\n",
       "      <td>Own Home</td>\n",
       "      <td>1025487.0</td>\n",
       "      <td>10+ years</td>\n",
       "      <td>0.0</td>\n",
       "      <td>15.0</td>\n",
       "      <td>15.3</td>\n",
       "      <td>1181730.0</td>\n",
       "      <td>0.0</td>\n",
       "      <td>NaN</td>\n",
       "      <td>0.0</td>\n",
       "      <td>debt consolidation</td>\n",
       "      <td>Long Term</td>\n",
       "      <td>264968.0</td>\n",
       "      <td>394972.0</td>\n",
       "      <td>18373.0</td>\n",
       "      <td>737.0</td>\n",
       "      <td>1</td>\n",
       "    </tr>\n",
       "    <tr>\n",
       "      <th>2</th>\n",
       "      <td>Home Mortgage</td>\n",
       "      <td>751412.0</td>\n",
       "      <td>8 years</td>\n",
       "      <td>0.0</td>\n",
       "      <td>11.0</td>\n",
       "      <td>35.0</td>\n",
       "      <td>1182434.0</td>\n",
       "      <td>0.0</td>\n",
       "      <td>NaN</td>\n",
       "      <td>0.0</td>\n",
       "      <td>debt consolidation</td>\n",
       "      <td>Short Term</td>\n",
       "      <td>99999999.0</td>\n",
       "      <td>308389.0</td>\n",
       "      <td>13651.0</td>\n",
       "      <td>742.0</td>\n",
       "      <td>0</td>\n",
       "    </tr>\n",
       "    <tr>\n",
       "      <th>3</th>\n",
       "      <td>Own Home</td>\n",
       "      <td>805068.0</td>\n",
       "      <td>6 years</td>\n",
       "      <td>0.0</td>\n",
       "      <td>8.0</td>\n",
       "      <td>22.5</td>\n",
       "      <td>147400.0</td>\n",
       "      <td>1.0</td>\n",
       "      <td>NaN</td>\n",
       "      <td>1.0</td>\n",
       "      <td>debt consolidation</td>\n",
       "      <td>Short Term</td>\n",
       "      <td>121396.0</td>\n",
       "      <td>95855.0</td>\n",
       "      <td>11338.0</td>\n",
       "      <td>694.0</td>\n",
       "      <td>0</td>\n",
       "    </tr>\n",
       "    <tr>\n",
       "      <th>4</th>\n",
       "      <td>Rent</td>\n",
       "      <td>776264.0</td>\n",
       "      <td>8 years</td>\n",
       "      <td>0.0</td>\n",
       "      <td>13.0</td>\n",
       "      <td>13.6</td>\n",
       "      <td>385836.0</td>\n",
       "      <td>1.0</td>\n",
       "      <td>NaN</td>\n",
       "      <td>0.0</td>\n",
       "      <td>debt consolidation</td>\n",
       "      <td>Short Term</td>\n",
       "      <td>125840.0</td>\n",
       "      <td>93309.0</td>\n",
       "      <td>7180.0</td>\n",
       "      <td>719.0</td>\n",
       "      <td>0</td>\n",
       "    </tr>\n",
       "    <tr>\n",
       "      <th>...</th>\n",
       "      <td>...</td>\n",
       "      <td>...</td>\n",
       "      <td>...</td>\n",
       "      <td>...</td>\n",
       "      <td>...</td>\n",
       "      <td>...</td>\n",
       "      <td>...</td>\n",
       "      <td>...</td>\n",
       "      <td>...</td>\n",
       "      <td>...</td>\n",
       "      <td>...</td>\n",
       "      <td>...</td>\n",
       "      <td>...</td>\n",
       "      <td>...</td>\n",
       "      <td>...</td>\n",
       "      <td>...</td>\n",
       "      <td>...</td>\n",
       "    </tr>\n",
       "    <tr>\n",
       "      <th>7495</th>\n",
       "      <td>Rent</td>\n",
       "      <td>402192.0</td>\n",
       "      <td>&lt; 1 year</td>\n",
       "      <td>0.0</td>\n",
       "      <td>3.0</td>\n",
       "      <td>8.5</td>\n",
       "      <td>107866.0</td>\n",
       "      <td>0.0</td>\n",
       "      <td>NaN</td>\n",
       "      <td>0.0</td>\n",
       "      <td>other</td>\n",
       "      <td>Short Term</td>\n",
       "      <td>129360.0</td>\n",
       "      <td>73492.0</td>\n",
       "      <td>1900.0</td>\n",
       "      <td>697.0</td>\n",
       "      <td>0</td>\n",
       "    </tr>\n",
       "    <tr>\n",
       "      <th>7496</th>\n",
       "      <td>Home Mortgage</td>\n",
       "      <td>1533984.0</td>\n",
       "      <td>1 year</td>\n",
       "      <td>0.0</td>\n",
       "      <td>10.0</td>\n",
       "      <td>26.5</td>\n",
       "      <td>686312.0</td>\n",
       "      <td>0.0</td>\n",
       "      <td>43.0</td>\n",
       "      <td>0.0</td>\n",
       "      <td>debt consolidation</td>\n",
       "      <td>Long Term</td>\n",
       "      <td>444048.0</td>\n",
       "      <td>456399.0</td>\n",
       "      <td>12783.0</td>\n",
       "      <td>0.0</td>\n",
       "      <td>1</td>\n",
       "    </tr>\n",
       "    <tr>\n",
       "      <th>7497</th>\n",
       "      <td>Rent</td>\n",
       "      <td>1878910.0</td>\n",
       "      <td>6 years</td>\n",
       "      <td>0.0</td>\n",
       "      <td>12.0</td>\n",
       "      <td>32.1</td>\n",
       "      <td>1778920.0</td>\n",
       "      <td>0.0</td>\n",
       "      <td>NaN</td>\n",
       "      <td>0.0</td>\n",
       "      <td>buy a car</td>\n",
       "      <td>Short Term</td>\n",
       "      <td>99999999.0</td>\n",
       "      <td>477812.0</td>\n",
       "      <td>12479.0</td>\n",
       "      <td>748.0</td>\n",
       "      <td>0</td>\n",
       "    </tr>\n",
       "    <tr>\n",
       "      <th>7498</th>\n",
       "      <td>Home Mortgage</td>\n",
       "      <td>NaN</td>\n",
       "      <td>NaN</td>\n",
       "      <td>0.0</td>\n",
       "      <td>21.0</td>\n",
       "      <td>26.5</td>\n",
       "      <td>1141250.0</td>\n",
       "      <td>0.0</td>\n",
       "      <td>NaN</td>\n",
       "      <td>0.0</td>\n",
       "      <td>debt consolidation</td>\n",
       "      <td>Short Term</td>\n",
       "      <td>615274.0</td>\n",
       "      <td>476064.0</td>\n",
       "      <td>37118.0</td>\n",
       "      <td>NaN</td>\n",
       "      <td>0</td>\n",
       "    </tr>\n",
       "    <tr>\n",
       "      <th>7499</th>\n",
       "      <td>Rent</td>\n",
       "      <td>NaN</td>\n",
       "      <td>4 years</td>\n",
       "      <td>0.0</td>\n",
       "      <td>8.0</td>\n",
       "      <td>9.4</td>\n",
       "      <td>480832.0</td>\n",
       "      <td>0.0</td>\n",
       "      <td>NaN</td>\n",
       "      <td>0.0</td>\n",
       "      <td>debt consolidation</td>\n",
       "      <td>Short Term</td>\n",
       "      <td>26928.0</td>\n",
       "      <td>288192.0</td>\n",
       "      <td>9061.0</td>\n",
       "      <td>NaN</td>\n",
       "      <td>0</td>\n",
       "    </tr>\n",
       "  </tbody>\n",
       "</table>\n",
       "<p>7500 rows × 17 columns</p>\n",
       "</div>"
      ],
      "text/plain": [
       "       домовладение  годовой доход количество лет на текущем месте работы  \\\n",
       "0          Own Home       482087.0                                    NaN   \n",
       "1          Own Home      1025487.0                              10+ years   \n",
       "2     Home Mortgage       751412.0                                8 years   \n",
       "3          Own Home       805068.0                                6 years   \n",
       "4              Rent       776264.0                                8 years   \n",
       "...             ...            ...                                    ...   \n",
       "7495           Rent       402192.0                               < 1 year   \n",
       "7496  Home Mortgage      1533984.0                                 1 year   \n",
       "7497           Rent      1878910.0                                6 years   \n",
       "7498  Home Mortgage            NaN                                    NaN   \n",
       "7499           Rent            NaN                                4 years   \n",
       "\n",
       "      налоговые льготы  количество открытых счетов  \\\n",
       "0                  0.0                        11.0   \n",
       "1                  0.0                        15.0   \n",
       "2                  0.0                        11.0   \n",
       "3                  0.0                         8.0   \n",
       "4                  0.0                        13.0   \n",
       "...                ...                         ...   \n",
       "7495               0.0                         3.0   \n",
       "7496               0.0                        10.0   \n",
       "7497               0.0                        12.0   \n",
       "7498               0.0                        21.0   \n",
       "7499               0.0                         8.0   \n",
       "\n",
       "      количество лет кредитной истории  наибольший открытый кредит  \\\n",
       "0                                 26.3                    685960.0   \n",
       "1                                 15.3                   1181730.0   \n",
       "2                                 35.0                   1182434.0   \n",
       "3                                 22.5                    147400.0   \n",
       "4                                 13.6                    385836.0   \n",
       "...                                ...                         ...   \n",
       "7495                               8.5                    107866.0   \n",
       "7496                              26.5                    686312.0   \n",
       "7497                              32.1                   1778920.0   \n",
       "7498                              26.5                   1141250.0   \n",
       "7499                               9.4                    480832.0   \n",
       "\n",
       "      количество проблем с кредитом  \\\n",
       "0                               1.0   \n",
       "1                               0.0   \n",
       "2                               0.0   \n",
       "3                               1.0   \n",
       "4                               1.0   \n",
       "...                             ...   \n",
       "7495                            0.0   \n",
       "7496                            0.0   \n",
       "7497                            0.0   \n",
       "7498                            0.0   \n",
       "7499                            0.0   \n",
       "\n",
       "      количество месяцев с последней просрочки платежа  банкротства  \\\n",
       "0                                                  NaN          1.0   \n",
       "1                                                  NaN          0.0   \n",
       "2                                                  NaN          0.0   \n",
       "3                                                  NaN          1.0   \n",
       "4                                                  NaN          0.0   \n",
       "...                                                ...          ...   \n",
       "7495                                               NaN          0.0   \n",
       "7496                                              43.0          0.0   \n",
       "7497                                               NaN          0.0   \n",
       "7498                                               NaN          0.0   \n",
       "7499                                               NaN          0.0   \n",
       "\n",
       "            цель кредита срок кредита  текущая сумма кредита  \\\n",
       "0     debt consolidation   Short Term             99999999.0   \n",
       "1     debt consolidation    Long Term               264968.0   \n",
       "2     debt consolidation   Short Term             99999999.0   \n",
       "3     debt consolidation   Short Term               121396.0   \n",
       "4     debt consolidation   Short Term               125840.0   \n",
       "...                  ...          ...                    ...   \n",
       "7495               other   Short Term               129360.0   \n",
       "7496  debt consolidation    Long Term               444048.0   \n",
       "7497           buy a car   Short Term             99999999.0   \n",
       "7498  debt consolidation   Short Term               615274.0   \n",
       "7499  debt consolidation   Short Term                26928.0   \n",
       "\n",
       "      текущий кредитный баланс  ежемесячный долг  кредитный рейтинг  \\\n",
       "0                      47386.0            7914.0              749.0   \n",
       "1                     394972.0           18373.0              737.0   \n",
       "2                     308389.0           13651.0              742.0   \n",
       "3                      95855.0           11338.0              694.0   \n",
       "4                      93309.0            7180.0              719.0   \n",
       "...                        ...               ...                ...   \n",
       "7495                   73492.0            1900.0              697.0   \n",
       "7496                  456399.0           12783.0                0.0   \n",
       "7497                  477812.0           12479.0              748.0   \n",
       "7498                  476064.0           37118.0                NaN   \n",
       "7499                  288192.0            9061.0                NaN   \n",
       "\n",
       "      0 - погашен вовремя, 1 - просрочка  \n",
       "0                                      0  \n",
       "1                                      1  \n",
       "2                                      0  \n",
       "3                                      0  \n",
       "4                                      0  \n",
       "...                                  ...  \n",
       "7495                                   0  \n",
       "7496                                   1  \n",
       "7497                                   0  \n",
       "7498                                   0  \n",
       "7499                                   0  \n",
       "\n",
       "[7500 rows x 17 columns]"
      ]
     },
     "execution_count": 11,
     "metadata": {},
     "output_type": "execute_result"
    }
   ],
   "source": [
    "data_read"
   ]
  },
  {
   "cell_type": "code",
   "execution_count": null,
   "id": "3cbf07a2",
   "metadata": {},
   "outputs": [],
   "source": [
    "data = data_read.drop('0 - погашен вовремя, 1 - просрочка', axis=1)\n",
    "target = data_read['0 - погашен вовремя, 1 - просрочка']"
   ]
  },
  {
   "cell_type": "markdown",
   "id": "2b75ac68",
   "metadata": {},
   "source": [
    "### data, target "
   ]
  },
  {
   "cell_type": "markdown",
   "id": "8ce128f7",
   "metadata": {},
   "source": [
    "### dummy переменные"
   ]
  },
  {
   "cell_type": "code",
   "execution_count": null,
   "id": "cab8ce4a",
   "metadata": {},
   "outputs": [],
   "source": [
    "def dummy(data, name):\n",
    "    x = data[name].unique()\n",
    "    for i in range(len(data[name].unique())):\n",
    "        y = name+'_'+ str(i)\n",
    "        data[y] = 3\n",
    "        data[y][data[name]==x[i]] = 1\n",
    "        data[y][data[name]!=x[i]] = 0\n",
    "    data.drop(name, axis=1, inplace=True)\n",
    "            \n",
    "            \n",
    "# dummy('домовладение')"
   ]
  },
  {
   "cell_type": "markdown",
   "id": "3e94f22e",
   "metadata": {},
   "source": [
    "### заполнение год доход и кредитный рейтинг"
   ]
  },
  {
   "cell_type": "code",
   "execution_count": null,
   "id": "c512cff5",
   "metadata": {},
   "outputs": [],
   "source": [
    "def god_dohod(data):\n",
    "    data['годовой доход'].fillna(0, inplace=True)\n",
    "    data['кредитный рейтинг'].fillna(0, inplace=True)\n",
    "    data['банкротства'].fillna(0, inplace=True)\n",
    "    data['количество месяцев с последней просрочки платежа'].fillna(0, inplace=True)"
   ]
  },
  {
   "cell_type": "code",
   "execution_count": null,
   "id": "83dacab7",
   "metadata": {},
   "outputs": [],
   "source": [
    "god_dohod(data)\n",
    "dummy(data, 'домовладение')\n",
    "dummy(data, 'количество лет на текущем месте работы')\n",
    "dummy(data, 'цель кредита')\n",
    "dummy(data, 'срок кредита')\n",
    "data.info()"
   ]
  },
  {
   "cell_type": "markdown",
   "id": "98836728",
   "metadata": {},
   "source": [
    "### проба без обработки данных"
   ]
  },
  {
   "cell_type": "code",
   "execution_count": null,
   "id": "649914ab",
   "metadata": {
    "scrolled": false
   },
   "outputs": [],
   "source": [
    "x_train, x_test, y_train, y_test = train_test_split(data, target, test_size=0.3, random_state=42)\n",
    "from xgboost import XGBClassifier\n"
   ]
  },
  {
   "cell_type": "code",
   "execution_count": null,
   "id": "4de6af5a",
   "metadata": {
    "scrolled": false
   },
   "outputs": [],
   "source": [
    "qwe = []\n",
    "qw = []\n",
    "q = (i/1000 for i in range(605, 607))\n",
    "for i in q:\n",
    "    xgb = XGBClassifier(eta=0.62, verbocity=0, max_depth=8, n_jobs=7)\n",
    "    xgb.fit(x_train, y_train)\n",
    "    y_pred = xgb.predict(x_test)\n",
    "    qw.append(f1_score(y_test, y_pred))\n",
    "    qwe.append(i)\n",
    "print(classification_report(y_test, y_pred))\n",
    "plt.plot(qwe, qw)\n",
    "plt.show()"
   ]
  },
  {
   "cell_type": "code",
   "execution_count": null,
   "id": "56213ebf",
   "metadata": {},
   "outputs": [],
   "source": [
    "f1_score(y_test, y_pred)"
   ]
  },
  {
   "cell_type": "markdown",
   "id": "7d4769c0",
   "metadata": {},
   "source": [
    "### подготовка данных"
   ]
  },
  {
   "cell_type": "code",
   "execution_count": null,
   "id": "cc53c052",
   "metadata": {},
   "outputs": [],
   "source": [
    "sns.kdeplot(data['годовой доход'][target == 0], shade=True)\n",
    "sns.kdeplot(data['годовой доход'][target == 1], shade=True)"
   ]
  },
  {
   "cell_type": "code",
   "execution_count": null,
   "id": "06f29665",
   "metadata": {},
   "outputs": [],
   "source": [
    "from scipy.stats import shapiro, ttest_ind, chi2, mannwhitneyu"
   ]
  },
  {
   "cell_type": "code",
   "execution_count": null,
   "id": "b04b5679",
   "metadata": {},
   "outputs": [],
   "source": [
    "del_data = []\n",
    "good_data = []\n",
    "for i in data.keys():\n",
    "    if len(data[i].unique())>2:\n",
    "        if shapiro(data[i]).pvalue > 0.05:\n",
    "            print(i , 'норм' if ttest_ind(data[i][target == 0], data[i][target == 1]).pvalue <= 0.05 else 'удаляем')\n",
    "            good_data.append(i) if ttest_ind(data[i][target == 0], data[i][target == 1]).pvalue <= 0.05 else del_data.append(i)\n",
    "        elif shapiro(data[i]).pvalue < 0.05:\n",
    "            print(i , 'норм' if mannwhitneyu(data[i][target == 0], data[i][target == 1]).pvalue <= 0.05 else 'удаляем')\n",
    "            good_data.append(i) if mannwhitneyu(data[i][target == 0], data[i][target == 1]).pvalue <= 0.05 else del_data.append(i)\n",
    "    "
   ]
  },
  {
   "cell_type": "code",
   "execution_count": null,
   "id": "707d8d0d",
   "metadata": {},
   "outputs": [],
   "source": [
    "del_data, good_data"
   ]
  },
  {
   "cell_type": "code",
   "execution_count": null,
   "id": "58953ce8",
   "metadata": {},
   "outputs": [],
   "source": [
    "data.drop(del_data, axis=1, inplace=True)"
   ]
  },
  {
   "cell_type": "code",
   "execution_count": null,
   "id": "cd138955",
   "metadata": {
    "scrolled": false
   },
   "outputs": [],
   "source": [
    "\n",
    "x_train, x_test, y_train, y_test = train_test_split(data, target, test_size=0.3, random_state=42)\n",
    "qwe = []\n",
    "qw = []\n",
    "q = (i/1000 for i in range(10, 30))\n",
    "for i in q:\n",
    "    xgb = XGBClassifier(eta=0.62, max_depth=1, verbosity=0,  n_estimators=50, n_jobs=7, reg_alpha=0.17)\n",
    "    xgb.fit(x_train, y_train)\n",
    "    y_pred = xgb.predict(x_test)\n",
    "    qw.append(f1_score(y_test, y_pred))\n",
    "    qwe.append(i)\n",
    "print(classification_report(y_test, y_pred))\n",
    "plt.plot(qwe, qw)\n",
    "plt.show()"
   ]
  },
  {
   "cell_type": "code",
   "execution_count": null,
   "id": "98ec86a8",
   "metadata": {},
   "outputs": [],
   "source": [
    "y_proba = xgb.predict_proba(x_test)\n",
    "y_proba = pd.DataFrame(y_proba, columns=['1', '2'])\n",
    "y_proba"
   ]
  },
  {
   "cell_type": "code",
   "execution_count": null,
   "id": "e2c663f8",
   "metadata": {},
   "outputs": [],
   "source": [
    "rec = []\n",
    "pre = []\n",
    "f11 = []\n",
    "qw = []\n",
    "q = (i/100 for i in range(32, 35))\n",
    "for i in q:\n",
    "    y_pred_proba = np.asarray([np.where(line>i, 1, 0) for line in y_proba['2']])\n",
    "    rec.append(recall_score(y_test, y_pred_proba))\n",
    "    pre.append(precision_score(y_test, y_pred_proba))\n",
    "    f11.append(f1_score(y_test, y_pred_proba))\n",
    "    qw.append(i)\n",
    "y_pred_proba\n",
    "\n",
    "plt.plot(qw, rec, label='recall')\n",
    "plt.plot(qw, pre, label='precision')\n",
    "plt.plot(qw, f11, label='f1')\n",
    "plt.legend()\n",
    "plt.grid()\n",
    "plt.show()"
   ]
  },
  {
   "cell_type": "code",
   "execution_count": null,
   "id": "17ce7e5f",
   "metadata": {},
   "outputs": [],
   "source": [
    "y_pred_train = xgb.predict_proba(x_train)\n",
    "y_pred_train = pd.DataFrame(y_pred_train, columns=['1', '2'])\n",
    "y_pred_train_ = np.asarray([np.where(line>0.3290, 1, 0) for line in y_pred_train['2']])\n",
    "y_pred_proba = np.asarray([np.where(line>0.3290, 1, 0) for line in y_proba['2']])\n",
    "print(f1_score(y_test, y_pred_proba))\n",
    "print(f1_score(y_train, y_pred_train_))\n",
    "print(classification_report(y_test, y_pred_proba))"
   ]
  },
  {
   "cell_type": "code",
   "execution_count": null,
   "id": "278596df",
   "metadata": {},
   "outputs": [],
   "source": [
    "l(1., 10., 0.1)"
   ]
  },
  {
   "cell_type": "markdown",
   "id": "e8cdeac8",
   "metadata": {},
   "source": [
    "### подбор гиперпараметров"
   ]
  },
  {
   "cell_type": "code",
   "execution_count": null,
   "id": "1e6acbbf",
   "metadata": {},
   "outputs": [],
   "source": [
    "from sklearn.model_selection import GridSearchCV\n",
    "parametrs = { 'n_estimators': range(10, 100),\n",
    "              'max_depth': range(1,25),\n",
    "              'eta': [i/100 for i in range(1, 80)],\n",
    "              'reg_alpha': [i/1000 for i in range(1, 200, 10)]}\n",
    "grid = GridSearchCV(xgb, parametrs, cv=3, verbose=30)\n",
    "grid.fit(x_train, y_train)\n",
    "grid.best_params_"
   ]
  },
  {
   "cell_type": "code",
   "execution_count": null,
   "id": "e21c85f7",
   "metadata": {},
   "outputs": [],
   "source": [
    "grid.best_params_"
   ]
  },
  {
   "cell_type": "code",
   "execution_count": null,
   "id": "ee32d718",
   "metadata": {},
   "outputs": [],
   "source": [
    "# param = {'max_depth': 1,\n",
    "#  'min_samples_leaf': 1,\n",
    "#  'min_samples_split': 2,\n",
    "#  'n_estimators': 50}"
   ]
  },
  {
   "cell_type": "markdown",
   "id": "dd6ed273",
   "metadata": {},
   "source": [
    "### гипотезы"
   ]
  },
  {
   "cell_type": "code",
   "execution_count": null,
   "id": "902f3920",
   "metadata": {},
   "outputs": [],
   "source": [
    "# data['годовой доход'][data['годовой доход']==0] = data['годовой доход'].median()\n",
    "# data['кредитный рейтинг'][data['кредитный рейтинг']==0] = data['кредитный рейтинг'].median()"
   ]
  },
  {
   "cell_type": "code",
   "execution_count": null,
   "id": "bc929006",
   "metadata": {},
   "outputs": [],
   "source": [
    "# data['кредитный рейтинг'][data['кредитный рейтинг']>1000] = data['кредитный рейтинг']/10"
   ]
  },
  {
   "cell_type": "markdown",
   "id": "0dcf91fb",
   "metadata": {},
   "source": [
    "### визуальная оценка данных"
   ]
  },
  {
   "cell_type": "code",
   "execution_count": null,
   "id": "9d9d1a7c",
   "metadata": {},
   "outputs": [],
   "source": [
    "x_train, x_test, y_train, y_test = train_test_split(data, target, test_size=0.3, random_state=42)\n",
    "xgb = XGBClassifier(eta=0.62, max_depth=1, min_samples_leaf=1, min_samples_split=2, n_estimators=50, n_jobs=7 )\n",
    "xgb.fit(x_train, y_train)\n",
    "y_pred = xgb.predict(x_test)\n",
    "f1_score(y_test, y_pred)\n"
   ]
  },
  {
   "cell_type": "code",
   "execution_count": null,
   "id": "8b93a3b9",
   "metadata": {},
   "outputs": [],
   "source": [
    "rec = []\n",
    "pre = []\n",
    "f11 = []\n",
    "qw = []\n",
    "q = (i/1000 for i in range(325, 330))\n",
    "for i in q:\n",
    "    y_pred_proba = np.asarray([np.where(line>i, 1, 0) for line in y_proba['2']])\n",
    "    rec.append(recall_score(y_test, y_pred_proba))\n",
    "    pre.append(precision_score(y_test, y_pred_proba))\n",
    "    f11.append(f1_score(y_test, y_pred_proba))\n",
    "    qw.append(i)\n",
    "y_pred_proba\n",
    "\n",
    "plt.plot(qw, rec, label='recall')\n",
    "plt.plot(qw, pre, label='precision')\n",
    "plt.plot(qw, f11, label='f1')\n",
    "plt.legend()\n",
    "plt.show()"
   ]
  },
  {
   "cell_type": "code",
   "execution_count": null,
   "id": "74d37c94",
   "metadata": {},
   "outputs": [],
   "source": [
    "y_pred_train = xgb.predict_proba(x_train)\n",
    "y_pred_train = pd.DataFrame(y_pred_train, columns=['1', '2'])\n",
    "y_pred_train_ = np.asarray([np.where(line>0.3274, 1, 0) for line in y_pred_train['2']])\n",
    "y_pred_proba = np.asarray([np.where(line>0.3274, 1, 0) for line in y_proba['2']])\n",
    "print(f1_score(y_test, y_pred_proba))\n",
    "print(f1_score(y_train, y_pred_train_))\n",
    "print(classification_report(y_test, y_pred_proba))"
   ]
  },
  {
   "cell_type": "code",
   "execution_count": null,
   "id": "027da45c",
   "metadata": {},
   "outputs": [],
   "source": [
    "confusion_matrix(y_test, y_pred_proba), accuracy_score(y_test, y_pred_proba)"
   ]
  },
  {
   "cell_type": "markdown",
   "id": "e6e3a666",
   "metadata": {},
   "source": [
    "### окончательная модель"
   ]
  },
  {
   "cell_type": "code",
   "execution_count": null,
   "id": "d561e58d",
   "metadata": {},
   "outputs": [],
   "source": [
    "xgb = XGBClassifier(eta=0.62, max_depth=1, verbosity=0,  n_estimators=50, n_jobs=7, reg_alpha=0.17)\n",
    "xgb.fit(data, target)\n",
    "y_pred_train_ = np.asarray([np.where(line>0.332, 1, 0) for line in xgb.predict_proba(data)[:, 1]])\n",
    "f1_score(target, y_pred_train_), accuracy_score(target, y_pred_train_)"
   ]
  },
  {
   "cell_type": "code",
   "execution_count": null,
   "id": "5015a7a0",
   "metadata": {},
   "outputs": [],
   "source": [
    "data_test = pd.read_csv('course_project_test.csv')\n",
    "data_test = renams(data_test)\n",
    "god_dohod(data_test)\n",
    "data_test.drop(del_data, axis=1, inplace=True)\n",
    "data_test['кредитный рейтинг'][data_test['кредитный рейтинг']> 1000] = 0\n",
    "dummy(data_test, 'домовладение')\n",
    "dummy(data_test, 'количество лет на текущем месте работы')\n",
    "dummy(data_test, 'цель кредита')\n",
    "dummy(data_test, 'срок кредита')"
   ]
  },
  {
   "cell_type": "code",
   "execution_count": null,
   "id": "dad73664",
   "metadata": {},
   "outputs": [],
   "source": [
    "data_test"
   ]
  },
  {
   "cell_type": "code",
   "execution_count": null,
   "id": "97b9a461",
   "metadata": {},
   "outputs": [],
   "source": [
    "y_pred_test_data = pd.DataFrame(data_test.index, columns=['id'])\n",
    "y_pred_test_data['Credit Default'] = np.asarray([np.where(line>0.3274, 1, 0) for line in xgb.predict_proba(data_test)[:, 1]])\n",
    "y_pred_test_data"
   ]
  },
  {
   "cell_type": "code",
   "execution_count": null,
   "id": "9a2d0309",
   "metadata": {},
   "outputs": [],
   "source": [
    "y_pred_test_data.to_csv('PMakov_predictions.csv', index=False)\n",
    "x = pd.read_csv('PMakov_predictions.csv')\n",
    "x"
   ]
  }
 ],
 "metadata": {
  "kernelspec": {
   "display_name": "Python 3",
   "language": "python",
   "name": "python3"
  },
  "language_info": {
   "codemirror_mode": {
    "name": "ipython",
    "version": 3
   },
   "file_extension": ".py",
   "mimetype": "text/x-python",
   "name": "python",
   "nbconvert_exporter": "python",
   "pygments_lexer": "ipython3",
   "version": "3.8.8"
  }
 },
 "nbformat": 4,
 "nbformat_minor": 5
}
