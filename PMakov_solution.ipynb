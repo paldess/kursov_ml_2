{
 "cells": [
  {
   "cell_type": "code",
   "execution_count": 1,
   "id": "f8d62634",
   "metadata": {},
   "outputs": [],
   "source": [
    "import numpy as np\n",
    "import pandas as pd\n",
    "import matplotlib.pyplot as plt\n",
    "%matplotlib inline\n",
    "import warnings\n",
    "warnings.simplefilter('ignore')\n",
    "import seaborn as sns\n",
    "from sklearn.model_selection import train_test_split\n",
    "from sklearn.metrics import f1_score, recall_score, precision_score, confusion_matrix, classification_report, accuracy_score"
   ]
  },
  {
   "cell_type": "code",
   "execution_count": 2,
   "id": "d0c20d94",
   "metadata": {},
   "outputs": [],
   "source": [
    "plt.rcParams['figure.figsize']=(25, 8)"
   ]
  },
  {
   "cell_type": "code",
   "execution_count": 3,
   "id": "f4d0d05a",
   "metadata": {},
   "outputs": [
    {
     "name": "stdout",
     "output_type": "stream",
     "text": [
      "<class 'pandas.core.frame.DataFrame'>\n",
      "RangeIndex: 7500 entries, 0 to 7499\n",
      "Data columns (total 17 columns):\n",
      " #   Column                        Non-Null Count  Dtype  \n",
      "---  ------                        --------------  -----  \n",
      " 0   Home Ownership                7500 non-null   object \n",
      " 1   Annual Income                 5943 non-null   float64\n",
      " 2   Years in current job          7129 non-null   object \n",
      " 3   Tax Liens                     7500 non-null   float64\n",
      " 4   Number of Open Accounts       7500 non-null   float64\n",
      " 5   Years of Credit History       7500 non-null   float64\n",
      " 6   Maximum Open Credit           7500 non-null   float64\n",
      " 7   Number of Credit Problems     7500 non-null   float64\n",
      " 8   Months since last delinquent  3419 non-null   float64\n",
      " 9   Bankruptcies                  7486 non-null   float64\n",
      " 10  Purpose                       7500 non-null   object \n",
      " 11  Term                          7500 non-null   object \n",
      " 12  Current Loan Amount           7500 non-null   float64\n",
      " 13  Current Credit Balance        7500 non-null   float64\n",
      " 14  Monthly Debt                  7500 non-null   float64\n",
      " 15  Credit Score                  5943 non-null   float64\n",
      " 16  Credit Default                7500 non-null   int64  \n",
      "dtypes: float64(12), int64(1), object(4)\n",
      "memory usage: 996.2+ KB\n"
     ]
    }
   ],
   "source": [
    "data_read = pd.read_csv('course_project_train.csv')\n",
    "data_read.info()"
   ]
  },
  {
   "cell_type": "code",
   "execution_count": 4,
   "id": "fa29b2b0",
   "metadata": {},
   "outputs": [],
   "source": [
    "name_columns = {'Home Ownership': 'домовладение', 'Annual Income': 'годовой доход', 'Years in current job': 'количество лет на текущем месте работы',\n",
    "        'Maximum Open Credit': 'наибольший открытый кредит', 'Number of Credit Problems': 'количество проблем с кредитом',\n",
    "        'Months since last delinquent': 'количество месяцев с последней просрочки платежа', 'Bankruptcies': 'банкротства',\n",
    "        'Purpose': 'цель кредита', 'Term': 'срок кредита', 'Current Loan Amount': 'текущая сумма кредита',\n",
    "        'Current Credit Balance': 'текущий кредитный баланс', 'Monthly Debt': 'ежемесячный долг', 'Credit Score': 'кредитный рейтинг',\n",
    "        'Credit Default': '0 - погашен вовремя, 1 - просрочка', 'Tax Liens': 'налоговые льготы', \n",
    "       'Number of Open Accounts': 'количество открытых счетов', 'Years of Credit History': 'количество лет кредитной истории'}\n"
   ]
  },
  {
   "cell_type": "code",
   "execution_count": 5,
   "id": "729e40ba",
   "metadata": {},
   "outputs": [],
   "source": [
    "data_read.rename(columns=name_columns, inplace=True)"
   ]
  },
  {
   "cell_type": "code",
   "execution_count": 6,
   "id": "d89b0277",
   "metadata": {},
   "outputs": [],
   "source": [
    "data_read.drop(data_read['кредитный рейтинг'][data_read['кредитный рейтинг']==0], axis=0, inplace=True)"
   ]
  },
  {
   "cell_type": "code",
   "execution_count": 7,
   "id": "3cbf07a2",
   "metadata": {},
   "outputs": [],
   "source": [
    "data = data_read.drop('0 - погашен вовремя, 1 - просрочка', axis=1)\n",
    "target = data_read['0 - погашен вовремя, 1 - просрочка']"
   ]
  },
  {
   "cell_type": "markdown",
   "id": "2b75ac68",
   "metadata": {},
   "source": [
    "### data, target "
   ]
  },
  {
   "cell_type": "code",
   "execution_count": 8,
   "id": "02032922",
   "metadata": {},
   "outputs": [
    {
     "name": "stdout",
     "output_type": "stream",
     "text": [
      "<class 'pandas.core.frame.DataFrame'>\n",
      "Int64Index: 7500 entries, 0 to 7499\n",
      "Data columns (total 16 columns):\n",
      " #   Column                                            Non-Null Count  Dtype  \n",
      "---  ------                                            --------------  -----  \n",
      " 0   домовладение                                      7500 non-null   object \n",
      " 1   годовой доход                                     5943 non-null   float64\n",
      " 2   количество лет на текущем месте работы            7129 non-null   object \n",
      " 3   налоговые льготы                                  7500 non-null   float64\n",
      " 4   количество открытых счетов                        7500 non-null   float64\n",
      " 5   количество лет кредитной истории                  7500 non-null   float64\n",
      " 6   наибольший открытый кредит                        7500 non-null   float64\n",
      " 7   количество проблем с кредитом                     7500 non-null   float64\n",
      " 8   количество месяцев с последней просрочки платежа  3419 non-null   float64\n",
      " 9   банкротства                                       7486 non-null   float64\n",
      " 10  цель кредита                                      7500 non-null   object \n",
      " 11  срок кредита                                      7500 non-null   object \n",
      " 12  текущая сумма кредита                             7500 non-null   float64\n",
      " 13  текущий кредитный баланс                          7500 non-null   float64\n",
      " 14  ежемесячный долг                                  7500 non-null   float64\n",
      " 15  кредитный рейтинг                                 5943 non-null   float64\n",
      "dtypes: float64(12), object(4)\n",
      "memory usage: 996.1+ KB\n"
     ]
    }
   ],
   "source": [
    "data.info()"
   ]
  },
  {
   "cell_type": "markdown",
   "id": "8ce128f7",
   "metadata": {},
   "source": [
    "### dummy переменные"
   ]
  },
  {
   "cell_type": "code",
   "execution_count": 9,
   "id": "cab8ce4a",
   "metadata": {},
   "outputs": [],
   "source": [
    "def dummy(data, name):\n",
    "    x = data[name].unique()\n",
    "    for i in range(len(data[name].unique())):\n",
    "        y = name+'_'+ str(i)\n",
    "        data[y] = 3\n",
    "        data[y][data[name]==x[i]] = 1\n",
    "        data[y][data[name]!=x[i]] = 0\n",
    "    data.drop(name, axis=1, inplace=True)\n",
    "            \n",
    "            \n",
    "# dummy('домовладение')"
   ]
  },
  {
   "cell_type": "markdown",
   "id": "3e94f22e",
   "metadata": {},
   "source": [
    "### заполнение год доход и кредитный рейтинг"
   ]
  },
  {
   "cell_type": "code",
   "execution_count": 10,
   "id": "c512cff5",
   "metadata": {},
   "outputs": [],
   "source": [
    "def god_dohod(data):\n",
    "    data['годовой доход'].fillna(0, inplace=True)\n",
    "    data['кредитный рейтинг'].fillna(0, inplace=True)\n",
    "    data['банкротства'].fillna(0, inplace=True)\n",
    "    data['количество месяцев с последней просрочки платежа'].fillna(0, inplace=True)"
   ]
  },
  {
   "cell_type": "code",
   "execution_count": 11,
   "id": "83dacab7",
   "metadata": {},
   "outputs": [
    {
     "name": "stdout",
     "output_type": "stream",
     "text": [
      "<class 'pandas.core.frame.DataFrame'>\n",
      "Int64Index: 7500 entries, 0 to 7499\n",
      "Data columns (total 45 columns):\n",
      " #   Column                                            Non-Null Count  Dtype  \n",
      "---  ------                                            --------------  -----  \n",
      " 0   годовой доход                                     7500 non-null   float64\n",
      " 1   налоговые льготы                                  7500 non-null   float64\n",
      " 2   количество открытых счетов                        7500 non-null   float64\n",
      " 3   количество лет кредитной истории                  7500 non-null   float64\n",
      " 4   наибольший открытый кредит                        7500 non-null   float64\n",
      " 5   количество проблем с кредитом                     7500 non-null   float64\n",
      " 6   количество месяцев с последней просрочки платежа  7500 non-null   float64\n",
      " 7   банкротства                                       7500 non-null   float64\n",
      " 8   текущая сумма кредита                             7500 non-null   float64\n",
      " 9   текущий кредитный баланс                          7500 non-null   float64\n",
      " 10  ежемесячный долг                                  7500 non-null   float64\n",
      " 11  кредитный рейтинг                                 7500 non-null   float64\n",
      " 12  домовладение_0                                    7500 non-null   int64  \n",
      " 13  домовладение_1                                    7500 non-null   int64  \n",
      " 14  домовладение_2                                    7500 non-null   int64  \n",
      " 15  домовладение_3                                    7500 non-null   int64  \n",
      " 16  количество лет на текущем месте работы_0          7500 non-null   int64  \n",
      " 17  количество лет на текущем месте работы_1          7500 non-null   int64  \n",
      " 18  количество лет на текущем месте работы_2          7500 non-null   int64  \n",
      " 19  количество лет на текущем месте работы_3          7500 non-null   int64  \n",
      " 20  количество лет на текущем месте работы_4          7500 non-null   int64  \n",
      " 21  количество лет на текущем месте работы_5          7500 non-null   int64  \n",
      " 22  количество лет на текущем месте работы_6          7500 non-null   int64  \n",
      " 23  количество лет на текущем месте работы_7          7500 non-null   int64  \n",
      " 24  количество лет на текущем месте работы_8          7500 non-null   int64  \n",
      " 25  количество лет на текущем месте работы_9          7500 non-null   int64  \n",
      " 26  количество лет на текущем месте работы_10         7500 non-null   int64  \n",
      " 27  количество лет на текущем месте работы_11         7500 non-null   int64  \n",
      " 28  цель кредита_0                                    7500 non-null   int64  \n",
      " 29  цель кредита_1                                    7500 non-null   int64  \n",
      " 30  цель кредита_2                                    7500 non-null   int64  \n",
      " 31  цель кредита_3                                    7500 non-null   int64  \n",
      " 32  цель кредита_4                                    7500 non-null   int64  \n",
      " 33  цель кредита_5                                    7500 non-null   int64  \n",
      " 34  цель кредита_6                                    7500 non-null   int64  \n",
      " 35  цель кредита_7                                    7500 non-null   int64  \n",
      " 36  цель кредита_8                                    7500 non-null   int64  \n",
      " 37  цель кредита_9                                    7500 non-null   int64  \n",
      " 38  цель кредита_10                                   7500 non-null   int64  \n",
      " 39  цель кредита_11                                   7500 non-null   int64  \n",
      " 40  цель кредита_12                                   7500 non-null   int64  \n",
      " 41  цель кредита_13                                   7500 non-null   int64  \n",
      " 42  цель кредита_14                                   7500 non-null   int64  \n",
      " 43  срок кредита_0                                    7500 non-null   int64  \n",
      " 44  срок кредита_1                                    7500 non-null   int64  \n",
      "dtypes: float64(12), int64(33)\n",
      "memory usage: 2.6 MB\n"
     ]
    }
   ],
   "source": [
    "god_dohod(data)\n",
    "dummy(data, 'домовладение')\n",
    "dummy(data, 'количество лет на текущем месте работы')\n",
    "dummy(data, 'цель кредита')\n",
    "dummy(data, 'срок кредита')\n",
    "data.info()"
   ]
  },
  {
   "cell_type": "markdown",
   "id": "98836728",
   "metadata": {},
   "source": [
    "### проба без обработки данных"
   ]
  },
  {
   "cell_type": "code",
   "execution_count": 12,
   "id": "649914ab",
   "metadata": {
    "scrolled": false
   },
   "outputs": [],
   "source": [
    "x_train, x_test, y_train, y_test = train_test_split(data, target, test_size=0.3, random_state=42)\n",
    "from xgboost import XGBClassifier\n"
   ]
  },
  {
   "cell_type": "code",
   "execution_count": 13,
   "id": "4de6af5a",
   "metadata": {
    "scrolled": true
   },
   "outputs": [
    {
     "name": "stdout",
     "output_type": "stream",
     "text": [
      "[16:12:54] WARNING: ..\\src\\learner.cc:1061: Starting in XGBoost 1.3.0, the default evaluation metric used with the objective 'binary:logistic' was changed from 'error' to 'logloss'. Explicitly set eval_metric if you'd like to restore the old behavior.\n",
      "[16:12:54] WARNING: ..\\src\\learner.cc:1061: Starting in XGBoost 1.3.0, the default evaluation metric used with the objective 'binary:logistic' was changed from 'error' to 'logloss'. Explicitly set eval_metric if you'd like to restore the old behavior.\n",
      "              precision    recall  f1-score   support\n",
      "\n",
      "           0       0.79      0.90      0.84      1592\n",
      "           1       0.64      0.42      0.50       658\n",
      "\n",
      "    accuracy                           0.76      2250\n",
      "   macro avg       0.71      0.66      0.67      2250\n",
      "weighted avg       0.74      0.76      0.74      2250\n",
      "\n"
     ]
    },
    {
     "data": {
      "image/png": "[encoded data removed]",
      "text/plain": [
       "<Figure size 1800x576 with 1 Axes>"
      ]
     },
     "metadata": {
      "needs_background": "light"
     },
     "output_type": "display_data"
    }
   ],
   "source": [
    "qwe = []\n",
    "qw = []\n",
    "q = (i/1000 for i in range(605, 607))\n",
    "for i in q:\n",
    "    xgb = XGBClassifier(eta=0.62, max_depth=8, n_jobs=7)\n",
    "    xgb.fit(x_train, y_train)\n",
    "    y_pred = xgb.predict(x_test)\n",
    "    qw.append(f1_score(y_test, y_pred))\n",
    "    qwe.append(i)\n",
    "print(classification_report(y_test, y_pred))\n",
    "plt.plot(qwe, qw)\n",
    "plt.show()"
   ]
  },
  {
   "cell_type": "code",
   "execution_count": 14,
   "id": "56213ebf",
   "metadata": {},
   "outputs": [
    {
     "data": {
      "text/plain": [
       "0.5041246562786436"
      ]
     },
     "execution_count": 14,
     "metadata": {},
     "output_type": "execute_result"
    }
   ],
   "source": [
    "f1_score(y_test, y_pred)"
   ]
  },
  {
   "cell_type": "markdown",
   "id": "7d4769c0",
   "metadata": {},
   "source": [
    "### подготовка данных"
   ]
  },
  {
   "cell_type": "code",
   "execution_count": 15,
   "id": "cc53c052",
   "metadata": {},
   "outputs": [
    {
     "data": {
      "text/plain": [
       "<AxesSubplot:xlabel='годовой доход', ylabel='Density'>"
      ]
     },
     "execution_count": 15,
     "metadata": {},
     "output_type": "execute_result"
    },
    {
     "data": {
      "image/png": "[encoded data removed]",
      "text/plain": [
       "<Figure size 1800x576 with 1 Axes>"
      ]
     },
     "metadata": {
      "needs_background": "light"
     },
     "output_type": "display_data"
    }
   ],
   "source": [
    "sns.kdeplot(data['годовой доход'][target == 0], shade=True)\n",
    "sns.kdeplot(data['годовой доход'][target == 1], shade=True)"
   ]
  },
  {
   "cell_type": "code",
   "execution_count": 16,
   "id": "06f29665",
   "metadata": {},
   "outputs": [],
   "source": [
    "from scipy.stats import shapiro, ttest_ind, chi2, mannwhitneyu"
   ]
  },
  {
   "cell_type": "code",
   "execution_count": 17,
   "id": "b04b5679",
   "metadata": {},
   "outputs": [
    {
     "name": "stdout",
     "output_type": "stream",
     "text": [
      "годовой доход норм\n",
      "налоговые льготы норм\n",
      "количество открытых счетов норм\n",
      "количество лет кредитной истории норм\n",
      "наибольший открытый кредит норм\n",
      "количество проблем с кредитом удаляем\n",
      "количество месяцев с последней просрочки платежа удаляем\n",
      "банкротства удаляем\n",
      "текущая сумма кредита норм\n",
      "текущий кредитный баланс удаляем\n",
      "ежемесячный долг норм\n",
      "кредитный рейтинг норм\n"
     ]
    }
   ],
   "source": [
    "del_data = []\n",
    "good_data = []\n",
    "for i in data.keys():\n",
    "    if len(data[i].unique())>2:\n",
    "        if shapiro(data[i]).pvalue > 0.05:\n",
    "            print(i , 'норм' if ttest_ind(data[i][target == 0], data[i][target == 1]).pvalue <= 0.05 else 'удаляем')\n",
    "            good_data.append(i) if ttest_ind(data[i][target == 0], data[i][target == 1]).pvalue <= 0.05 else del_data.append(i)\n",
    "        elif shapiro(data[i]).pvalue < 0.05:\n",
    "            print(i , 'норм' if mannwhitneyu(data[i][target == 0], data[i][target == 1]).pvalue <= 0.05 else 'удаляем')\n",
    "            good_data.append(i) if mannwhitneyu(data[i][target == 0], data[i][target == 1]).pvalue <= 0.05 else del_data.append(i)\n",
    "    "
   ]
  },
  {
   "cell_type": "code",
   "execution_count": 18,
   "id": "707d8d0d",
   "metadata": {},
   "outputs": [
    {
     "data": {
      "text/plain": [
       "(['количество проблем с кредитом',\n",
       "  'количество месяцев с последней просрочки платежа',\n",
       "  'банкротства',\n",
       "  'текущий кредитный баланс'],\n",
       " ['годовой доход',\n",
       "  'налоговые льготы',\n",
       "  'количество открытых счетов',\n",
       "  'количество лет кредитной истории',\n",
       "  'наибольший открытый кредит',\n",
       "  'текущая сумма кредита',\n",
       "  'ежемесячный долг',\n",
       "  'кредитный рейтинг'])"
      ]
     },
     "execution_count": 18,
     "metadata": {},
     "output_type": "execute_result"
    }
   ],
   "source": [
    "del_data, good_data"
   ]
  },
  {
   "cell_type": "code",
   "execution_count": 19,
   "id": "58953ce8",
   "metadata": {},
   "outputs": [],
   "source": [
    "# data.drop(del_data, axis=1, inplace=True)"
   ]
  },
  {
   "cell_type": "code",
   "execution_count": 44,
   "id": "cd138955",
   "metadata": {
    "scrolled": true
   },
   "outputs": [
    {
     "name": "stdout",
     "output_type": "stream",
     "text": [
      "              precision    recall  f1-score   support\n",
      "\n",
      "           0       0.77      0.98      0.86      1592\n",
      "           1       0.86      0.29      0.44       658\n",
      "\n",
      "    accuracy                           0.78      2250\n",
      "   macro avg       0.82      0.64      0.65      2250\n",
      "weighted avg       0.80      0.78      0.74      2250\n",
      "\n"
     ]
    },
    {
     "data": {
      "image/png": "[encoded data removed]",
      "text/plain": [
       "<Figure size 1800x576 with 1 Axes>"
      ]
     },
     "metadata": {
      "needs_background": "light"
     },
     "output_type": "display_data"
    }
   ],
   "source": [
    "\n",
    "x_train, x_test, y_train, y_test = train_test_split(data, target, test_size=0.3, random_state=42)\n",
    "qwe = []\n",
    "qw = []\n",
    "q = (i/1000 for i in range(10, 30))\n",
    "for i in q:\n",
    "    xgb = XGBClassifier(eta=0.62, max_depth=1, verbosity=0,  n_estimators=50, n_jobs=7, reg_alpha=0.17)\n",
    "    xgb.fit(x_train, y_train)\n",
    "    y_pred = xgb.predict(x_test)\n",
    "    qw.append(f1_score(y_test, y_pred))\n",
    "    qwe.append(i)\n",
    "print(classification_report(y_test, y_pred))\n",
    "plt.plot(qwe, qw)\n",
    "plt.show()"
   ]
  },
  {
   "cell_type": "code",
   "execution_count": 45,
   "id": "98ec86a8",
   "metadata": {},
   "outputs": [
    {
     "data": {
      "text/html": [
       "<div>\n",
       "<style scoped>\n",
       "    .dataframe tbody tr th:only-of-type {\n",
       "        vertical-align: middle;\n",
       "    }\n",
       "\n",
       "    .dataframe tbody tr th {\n",
       "        vertical-align: top;\n",
       "    }\n",
       "\n",
       "    .dataframe thead th {\n",
       "        text-align: right;\n",
       "    }\n",
       "</style>\n",
       "<table border=\"1\" class=\"dataframe\">\n",
       "  <thead>\n",
       "    <tr style=\"text-align: right;\">\n",
       "      <th></th>\n",
       "      <th>1</th>\n",
       "      <th>2</th>\n",
       "    </tr>\n",
       "  </thead>\n",
       "  <tbody>\n",
       "    <tr>\n",
       "      <th>0</th>\n",
       "      <td>0.030284</td>\n",
       "      <td>0.969716</td>\n",
       "    </tr>\n",
       "    <tr>\n",
       "      <th>1</th>\n",
       "      <td>0.850826</td>\n",
       "      <td>0.149174</td>\n",
       "    </tr>\n",
       "    <tr>\n",
       "      <th>2</th>\n",
       "      <td>0.707584</td>\n",
       "      <td>0.292416</td>\n",
       "    </tr>\n",
       "    <tr>\n",
       "      <th>3</th>\n",
       "      <td>0.709630</td>\n",
       "      <td>0.290370</td>\n",
       "    </tr>\n",
       "    <tr>\n",
       "      <th>4</th>\n",
       "      <td>0.995490</td>\n",
       "      <td>0.004510</td>\n",
       "    </tr>\n",
       "    <tr>\n",
       "      <th>...</th>\n",
       "      <td>...</td>\n",
       "      <td>...</td>\n",
       "    </tr>\n",
       "    <tr>\n",
       "      <th>2245</th>\n",
       "      <td>0.805254</td>\n",
       "      <td>0.194746</td>\n",
       "    </tr>\n",
       "    <tr>\n",
       "      <th>2246</th>\n",
       "      <td>0.006730</td>\n",
       "      <td>0.993270</td>\n",
       "    </tr>\n",
       "    <tr>\n",
       "      <th>2247</th>\n",
       "      <td>0.827207</td>\n",
       "      <td>0.172793</td>\n",
       "    </tr>\n",
       "    <tr>\n",
       "      <th>2248</th>\n",
       "      <td>0.010760</td>\n",
       "      <td>0.989240</td>\n",
       "    </tr>\n",
       "    <tr>\n",
       "      <th>2249</th>\n",
       "      <td>0.993841</td>\n",
       "      <td>0.006159</td>\n",
       "    </tr>\n",
       "  </tbody>\n",
       "</table>\n",
       "<p>2250 rows × 2 columns</p>\n",
       "</div>"
      ],
      "text/plain": [
       "             1         2\n",
       "0     0.030284  0.969716\n",
       "1     0.850826  0.149174\n",
       "2     0.707584  0.292416\n",
       "3     0.709630  0.290370\n",
       "4     0.995490  0.004510\n",
       "...        ...       ...\n",
       "2245  0.805254  0.194746\n",
       "2246  0.006730  0.993270\n",
       "2247  0.827207  0.172793\n",
       "2248  0.010760  0.989240\n",
       "2249  0.993841  0.006159\n",
       "\n",
       "[2250 rows x 2 columns]"
      ]
     },
     "execution_count": 45,
     "metadata": {},
     "output_type": "execute_result"
    }
   ],
   "source": [
    "y_proba = xgb.predict_proba(x_test)\n",
    "y_proba = pd.DataFrame(y_proba, columns=['1', '2'])\n",
    "y_proba"
   ]
  },
  {
   "cell_type": "code",
   "execution_count": 46,
   "id": "e2c663f8",
   "metadata": {},
   "outputs": [
    {
     "data": {
      "image/png": "[encoded data removed]",
      "text/plain": [
       "<Figure size 1800x576 with 1 Axes>"
      ]
     },
     "metadata": {
      "needs_background": "light"
     },
     "output_type": "display_data"
    }
   ],
   "source": [
    "rec = []\n",
    "pre = []\n",
    "f11 = []\n",
    "qw = []\n",
    "q = (i/100 for i in range(32, 35))\n",
    "for i in q:\n",
    "    y_pred_proba = np.asarray([np.where(line>i, 1, 0) for line in y_proba['2']])\n",
    "    rec.append(recall_score(y_test, y_pred_proba))\n",
    "    pre.append(precision_score(y_test, y_pred_proba))\n",
    "    f11.append(f1_score(y_test, y_pred_proba))\n",
    "    qw.append(i)\n",
    "y_pred_proba\n",
    "\n",
    "plt.plot(qw, rec, label='recall')\n",
    "plt.plot(qw, pre, label='precision')\n",
    "plt.plot(qw, f11, label='f1')\n",
    "plt.legend()\n",
    "plt.show()"
   ]
  },
  {
   "cell_type": "code",
   "execution_count": 47,
   "id": "17ce7e5f",
   "metadata": {},
   "outputs": [
    {
     "name": "stdout",
     "output_type": "stream",
     "text": [
      "0.5388679245283018\n",
      "0.566610455311973\n",
      "              precision    recall  f1-score   support\n",
      "\n",
      "           0       0.81      0.81      0.81      1592\n",
      "           1       0.54      0.54      0.54       658\n",
      "\n",
      "    accuracy                           0.73      2250\n",
      "   macro avg       0.67      0.67      0.67      2250\n",
      "weighted avg       0.73      0.73      0.73      2250\n",
      "\n"
     ]
    }
   ],
   "source": [
    "y_pred_train = xgb.predict_proba(x_train)\n",
    "y_pred_train = pd.DataFrame(y_pred_train, columns=['1', '2'])\n",
    "y_pred_train_ = np.asarray([np.where(line>0.3275, 1, 0) for line in y_pred_train['2']])\n",
    "y_pred_proba = np.asarray([np.where(line>0.3275, 1, 0) for line in y_proba['2']])\n",
    "print(f1_score(y_test, y_pred_proba))\n",
    "print(f1_score(y_train, y_pred_train_))\n",
    "print(classification_report(y_test, y_pred_proba))"
   ]
  },
  {
   "cell_type": "code",
   "execution_count": 24,
   "id": "278596df",
   "metadata": {},
   "outputs": [
    {
     "ename": "NameError",
     "evalue": "name 'aaa' is not defined",
     "output_type": "error",
     "traceback": [
      "\u001b[1;31m---------------------------------------------------------------------------\u001b[0m",
      "\u001b[1;31mNameError\u001b[0m                                 Traceback (most recent call last)",
      "\u001b[1;32m<ipython-input-24-972a1a11f199>\u001b[0m in \u001b[0;36m<module>\u001b[1;34m\u001b[0m\n\u001b[1;32m----> 1\u001b[1;33m \u001b[0maaa\u001b[0m\u001b[1;33m\u001b[0m\u001b[1;33m\u001b[0m\u001b[0m\n\u001b[0m",
      "\u001b[1;31mNameError\u001b[0m: name 'aaa' is not defined"
     ]
    }
   ],
   "source": [
    "aaa"
   ]
  },
  {
   "cell_type": "markdown",
   "id": "e8cdeac8",
   "metadata": {},
   "source": [
    "### подбор гиперпараметров"
   ]
  },
  {
   "cell_type": "code",
   "execution_count": null,
   "id": "1e6acbbf",
   "metadata": {},
   "outputs": [],
   "source": [
    "# from sklearn.model_selection import GridSearchCV\n",
    "# parametrs = { 'n_estimators': range (10, 51, 10),\n",
    "#               'max_depth': range (1,13, 2),\n",
    "#               'min_samples_leaf': range (1,8),\n",
    "#               'min_samples_split': range (2,10,2) }\n",
    "# grid = GridSearchCV(xgb, parametrs, cv=5)\n",
    "# grid.fit(x_train, y_train)\n",
    "# grid.best_params_"
   ]
  },
  {
   "cell_type": "code",
   "execution_count": null,
   "id": "ee32d718",
   "metadata": {},
   "outputs": [],
   "source": [
    "# param = {'max_depth': 1,\n",
    "#  'min_samples_leaf': 1,\n",
    "#  'min_samples_split': 2,\n",
    "#  'n_estimators': 50}"
   ]
  },
  {
   "cell_type": "markdown",
   "id": "dd6ed273",
   "metadata": {},
   "source": [
    "### гипотезы"
   ]
  },
  {
   "cell_type": "code",
   "execution_count": null,
   "id": "902f3920",
   "metadata": {},
   "outputs": [],
   "source": [
    "# data['годовой доход'][data['годовой доход']==0] = data['годовой доход'].median()\n",
    "# data['кредитный рейтинг'][data['кредитный рейтинг']==0] = data['кредитный рейтинг'].median()"
   ]
  },
  {
   "cell_type": "code",
   "execution_count": null,
   "id": "bc929006",
   "metadata": {},
   "outputs": [],
   "source": [
    "# data['кредитный рейтинг'][data['кредитный рейтинг']>1000] = data['кредитный рейтинг']/10"
   ]
  },
  {
   "cell_type": "markdown",
   "id": "0dcf91fb",
   "metadata": {},
   "source": [
    "### визуальная оценка данных"
   ]
  },
  {
   "cell_type": "code",
   "execution_count": null,
   "id": "9d9d1a7c",
   "metadata": {},
   "outputs": [],
   "source": [
    "x_train, x_test, y_train, y_test = train_test_split(data, target, test_size=0.3, random_state=42)\n",
    "xgb = XGBClassifier(eta=0.62, max_depth=1, min_samples_leaf=1, min_samples_split=2, n_estimators=50, n_jobs=7 )\n",
    "xgb.fit(x_train, y_train)\n",
    "y_pred = xgb.predict(x_test)\n",
    "f1_score(y_test, y_pred)\n"
   ]
  },
  {
   "cell_type": "code",
   "execution_count": null,
   "id": "8b93a3b9",
   "metadata": {},
   "outputs": [],
   "source": [
    "rec = []\n",
    "pre = []\n",
    "f11 = []\n",
    "qw = []\n",
    "q = (i/1000 for i in range(325, 330))\n",
    "for i in q:\n",
    "    y_pred_proba = np.asarray([np.where(line>i, 1, 0) for line in y_proba['2']])\n",
    "    rec.append(recall_score(y_test, y_pred_proba))\n",
    "    pre.append(precision_score(y_test, y_pred_proba))\n",
    "    f11.append(f1_score(y_test, y_pred_proba))\n",
    "    qw.append(i)\n",
    "y_pred_proba\n",
    "\n",
    "plt.plot(qw, rec, label='recall')\n",
    "plt.plot(qw, pre, label='precision')\n",
    "plt.plot(qw, f11, label='f1')\n",
    "plt.legend()\n",
    "plt.show()"
   ]
  },
  {
   "cell_type": "code",
   "execution_count": null,
   "id": "74d37c94",
   "metadata": {},
   "outputs": [],
   "source": [
    "y_pred_train = xgb.predict_proba(x_train)\n",
    "y_pred_train = pd.DataFrame(y_pred_train, columns=['1', '2'])\n",
    "y_pred_train_ = np.asarray([np.where(line>0.3274, 1, 0) for line in y_pred_train['2']])\n",
    "y_pred_proba = np.asarray([np.where(line>0.3274, 1, 0) for line in y_proba['2']])\n",
    "print(f1_score(y_test, y_pred_proba))\n",
    "print(f1_score(y_train, y_pred_train_))\n",
    "print(classification_report(y_test, y_pred_proba))"
   ]
  },
  {
   "cell_type": "code",
   "execution_count": null,
   "id": "027da45c",
   "metadata": {},
   "outputs": [],
   "source": [
    "confusion_matrix(y_test, y_pred_proba), accuracy_score(y_test, y_pred_proba)"
   ]
  },
  {
   "cell_type": "markdown",
   "id": "e6e3a666",
   "metadata": {},
   "source": [
    "### окончательная модель"
   ]
  },
  {
   "cell_type": "code",
   "execution_count": 48,
   "id": "d561e58d",
   "metadata": {},
   "outputs": [
    {
     "data": {
      "text/plain": [
       "(0.5609026018880958, 0.7457333333333334)"
      ]
     },
     "execution_count": 48,
     "metadata": {},
     "output_type": "execute_result"
    }
   ],
   "source": [
    "xgb = XGBClassifier(eta=0.62, max_depth=1, verbosity=0,  n_estimators=50, n_jobs=7, reg_alpha=0.17)\n",
    "xgb.fit(data, target)\n",
    "y_pred_train_ = np.asarray([np.where(line>0.3275, 1, 0) for line in xgb.predict_proba(data)[:, 1]])\n",
    "f1_score(target, y_pred_train_), accuracy_score(target, y_pred_train_)"
   ]
  },
  {
   "cell_type": "code",
   "execution_count": 49,
   "id": "5015a7a0",
   "metadata": {},
   "outputs": [],
   "source": [
    "data_test = pd.read_csv('course_project_test.csv')\n",
    "data_test.rename(columns=name_columns, inplace=True)\n",
    "name = good_data[2]\n",
    "data_test.drop(del_data, axis=1)\n",
    "god_dohod(data_test)\n",
    "dummy(data_test, 'домовладение')\n",
    "dummy(data_test, 'количество лет на текущем месте работы')\n",
    "dummy(data_test, 'цель кредита')\n",
    "dummy(data_test, 'срок кредита')"
   ]
  },
  {
   "cell_type": "code",
   "execution_count": 50,
   "id": "dad73664",
   "metadata": {},
   "outputs": [
    {
     "data": {
      "text/html": [
       "<div>\n",
       "<style scoped>\n",
       "    .dataframe tbody tr th:only-of-type {\n",
       "        vertical-align: middle;\n",
       "    }\n",
       "\n",
       "    .dataframe tbody tr th {\n",
       "        vertical-align: top;\n",
       "    }\n",
       "\n",
       "    .dataframe thead th {\n",
       "        text-align: right;\n",
       "    }\n",
       "</style>\n",
       "<table border=\"1\" class=\"dataframe\">\n",
       "  <thead>\n",
       "    <tr style=\"text-align: right;\">\n",
       "      <th></th>\n",
       "      <th>годовой доход</th>\n",
       "      <th>налоговые льготы</th>\n",
       "      <th>количество открытых счетов</th>\n",
       "      <th>количество лет кредитной истории</th>\n",
       "      <th>наибольший открытый кредит</th>\n",
       "      <th>количество проблем с кредитом</th>\n",
       "      <th>количество месяцев с последней просрочки платежа</th>\n",
       "      <th>банкротства</th>\n",
       "      <th>текущая сумма кредита</th>\n",
       "      <th>текущий кредитный баланс</th>\n",
       "      <th>...</th>\n",
       "      <th>цель кредита_6</th>\n",
       "      <th>цель кредита_7</th>\n",
       "      <th>цель кредита_8</th>\n",
       "      <th>цель кредита_9</th>\n",
       "      <th>цель кредита_10</th>\n",
       "      <th>цель кредита_11</th>\n",
       "      <th>цель кредита_12</th>\n",
       "      <th>цель кредита_13</th>\n",
       "      <th>срок кредита_0</th>\n",
       "      <th>срок кредита_1</th>\n",
       "    </tr>\n",
       "  </thead>\n",
       "  <tbody>\n",
       "    <tr>\n",
       "      <th>0</th>\n",
       "      <td>0.0</td>\n",
       "      <td>0.0</td>\n",
       "      <td>9.0</td>\n",
       "      <td>12.5</td>\n",
       "      <td>220968.0</td>\n",
       "      <td>0.0</td>\n",
       "      <td>70.0</td>\n",
       "      <td>0.0</td>\n",
       "      <td>162470.0</td>\n",
       "      <td>105906.0</td>\n",
       "      <td>...</td>\n",
       "      <td>0</td>\n",
       "      <td>0</td>\n",
       "      <td>0</td>\n",
       "      <td>0</td>\n",
       "      <td>0</td>\n",
       "      <td>0</td>\n",
       "      <td>0</td>\n",
       "      <td>0</td>\n",
       "      <td>1</td>\n",
       "      <td>0</td>\n",
       "    </tr>\n",
       "    <tr>\n",
       "      <th>1</th>\n",
       "      <td>231838.0</td>\n",
       "      <td>0.0</td>\n",
       "      <td>6.0</td>\n",
       "      <td>32.7</td>\n",
       "      <td>55946.0</td>\n",
       "      <td>0.0</td>\n",
       "      <td>8.0</td>\n",
       "      <td>0.0</td>\n",
       "      <td>78298.0</td>\n",
       "      <td>46037.0</td>\n",
       "      <td>...</td>\n",
       "      <td>0</td>\n",
       "      <td>0</td>\n",
       "      <td>0</td>\n",
       "      <td>0</td>\n",
       "      <td>0</td>\n",
       "      <td>0</td>\n",
       "      <td>0</td>\n",
       "      <td>0</td>\n",
       "      <td>1</td>\n",
       "      <td>0</td>\n",
       "    </tr>\n",
       "    <tr>\n",
       "      <th>2</th>\n",
       "      <td>1152540.0</td>\n",
       "      <td>0.0</td>\n",
       "      <td>10.0</td>\n",
       "      <td>13.7</td>\n",
       "      <td>204600.0</td>\n",
       "      <td>0.0</td>\n",
       "      <td>0.0</td>\n",
       "      <td>0.0</td>\n",
       "      <td>200178.0</td>\n",
       "      <td>146490.0</td>\n",
       "      <td>...</td>\n",
       "      <td>0</td>\n",
       "      <td>0</td>\n",
       "      <td>0</td>\n",
       "      <td>0</td>\n",
       "      <td>0</td>\n",
       "      <td>0</td>\n",
       "      <td>0</td>\n",
       "      <td>0</td>\n",
       "      <td>1</td>\n",
       "      <td>0</td>\n",
       "    </tr>\n",
       "    <tr>\n",
       "      <th>3</th>\n",
       "      <td>1220313.0</td>\n",
       "      <td>0.0</td>\n",
       "      <td>16.0</td>\n",
       "      <td>17.0</td>\n",
       "      <td>456302.0</td>\n",
       "      <td>0.0</td>\n",
       "      <td>70.0</td>\n",
       "      <td>0.0</td>\n",
       "      <td>217382.0</td>\n",
       "      <td>213199.0</td>\n",
       "      <td>...</td>\n",
       "      <td>0</td>\n",
       "      <td>0</td>\n",
       "      <td>0</td>\n",
       "      <td>0</td>\n",
       "      <td>0</td>\n",
       "      <td>0</td>\n",
       "      <td>0</td>\n",
       "      <td>0</td>\n",
       "      <td>1</td>\n",
       "      <td>0</td>\n",
       "    </tr>\n",
       "    <tr>\n",
       "      <th>4</th>\n",
       "      <td>2340952.0</td>\n",
       "      <td>0.0</td>\n",
       "      <td>11.0</td>\n",
       "      <td>23.6</td>\n",
       "      <td>1207272.0</td>\n",
       "      <td>0.0</td>\n",
       "      <td>0.0</td>\n",
       "      <td>0.0</td>\n",
       "      <td>777634.0</td>\n",
       "      <td>425391.0</td>\n",
       "      <td>...</td>\n",
       "      <td>0</td>\n",
       "      <td>0</td>\n",
       "      <td>0</td>\n",
       "      <td>0</td>\n",
       "      <td>0</td>\n",
       "      <td>0</td>\n",
       "      <td>0</td>\n",
       "      <td>0</td>\n",
       "      <td>0</td>\n",
       "      <td>1</td>\n",
       "    </tr>\n",
       "    <tr>\n",
       "      <th>...</th>\n",
       "      <td>...</td>\n",
       "      <td>...</td>\n",
       "      <td>...</td>\n",
       "      <td>...</td>\n",
       "      <td>...</td>\n",
       "      <td>...</td>\n",
       "      <td>...</td>\n",
       "      <td>...</td>\n",
       "      <td>...</td>\n",
       "      <td>...</td>\n",
       "      <td>...</td>\n",
       "      <td>...</td>\n",
       "      <td>...</td>\n",
       "      <td>...</td>\n",
       "      <td>...</td>\n",
       "      <td>...</td>\n",
       "      <td>...</td>\n",
       "      <td>...</td>\n",
       "      <td>...</td>\n",
       "      <td>...</td>\n",
       "      <td>...</td>\n",
       "    </tr>\n",
       "    <tr>\n",
       "      <th>2495</th>\n",
       "      <td>1020053.0</td>\n",
       "      <td>0.0</td>\n",
       "      <td>14.0</td>\n",
       "      <td>29.1</td>\n",
       "      <td>559152.0</td>\n",
       "      <td>1.0</td>\n",
       "      <td>68.0</td>\n",
       "      <td>1.0</td>\n",
       "      <td>99999999.0</td>\n",
       "      <td>162735.0</td>\n",
       "      <td>...</td>\n",
       "      <td>0</td>\n",
       "      <td>0</td>\n",
       "      <td>0</td>\n",
       "      <td>0</td>\n",
       "      <td>0</td>\n",
       "      <td>0</td>\n",
       "      <td>0</td>\n",
       "      <td>0</td>\n",
       "      <td>1</td>\n",
       "      <td>0</td>\n",
       "    </tr>\n",
       "    <tr>\n",
       "      <th>2496</th>\n",
       "      <td>0.0</td>\n",
       "      <td>0.0</td>\n",
       "      <td>15.0</td>\n",
       "      <td>17.0</td>\n",
       "      <td>1737780.0</td>\n",
       "      <td>0.0</td>\n",
       "      <td>77.0</td>\n",
       "      <td>0.0</td>\n",
       "      <td>468512.0</td>\n",
       "      <td>1439269.0</td>\n",
       "      <td>...</td>\n",
       "      <td>0</td>\n",
       "      <td>0</td>\n",
       "      <td>0</td>\n",
       "      <td>0</td>\n",
       "      <td>0</td>\n",
       "      <td>0</td>\n",
       "      <td>0</td>\n",
       "      <td>0</td>\n",
       "      <td>1</td>\n",
       "      <td>0</td>\n",
       "    </tr>\n",
       "    <tr>\n",
       "      <th>2497</th>\n",
       "      <td>1171806.0</td>\n",
       "      <td>0.0</td>\n",
       "      <td>48.0</td>\n",
       "      <td>12.8</td>\n",
       "      <td>1706430.0</td>\n",
       "      <td>0.0</td>\n",
       "      <td>0.0</td>\n",
       "      <td>0.0</td>\n",
       "      <td>430496.0</td>\n",
       "      <td>676438.0</td>\n",
       "      <td>...</td>\n",
       "      <td>0</td>\n",
       "      <td>0</td>\n",
       "      <td>0</td>\n",
       "      <td>0</td>\n",
       "      <td>0</td>\n",
       "      <td>0</td>\n",
       "      <td>0</td>\n",
       "      <td>0</td>\n",
       "      <td>1</td>\n",
       "      <td>0</td>\n",
       "    </tr>\n",
       "    <tr>\n",
       "      <th>2498</th>\n",
       "      <td>723520.0</td>\n",
       "      <td>0.0</td>\n",
       "      <td>14.0</td>\n",
       "      <td>28.8</td>\n",
       "      <td>945780.0</td>\n",
       "      <td>0.0</td>\n",
       "      <td>0.0</td>\n",
       "      <td>0.0</td>\n",
       "      <td>257774.0</td>\n",
       "      <td>391248.0</td>\n",
       "      <td>...</td>\n",
       "      <td>0</td>\n",
       "      <td>0</td>\n",
       "      <td>0</td>\n",
       "      <td>0</td>\n",
       "      <td>0</td>\n",
       "      <td>0</td>\n",
       "      <td>0</td>\n",
       "      <td>0</td>\n",
       "      <td>1</td>\n",
       "      <td>0</td>\n",
       "    </tr>\n",
       "    <tr>\n",
       "      <th>2499</th>\n",
       "      <td>1694439.0</td>\n",
       "      <td>0.0</td>\n",
       "      <td>12.0</td>\n",
       "      <td>18.4</td>\n",
       "      <td>1199748.0</td>\n",
       "      <td>1.0</td>\n",
       "      <td>72.0</td>\n",
       "      <td>0.0</td>\n",
       "      <td>763004.0</td>\n",
       "      <td>559531.0</td>\n",
       "      <td>...</td>\n",
       "      <td>0</td>\n",
       "      <td>0</td>\n",
       "      <td>0</td>\n",
       "      <td>0</td>\n",
       "      <td>0</td>\n",
       "      <td>0</td>\n",
       "      <td>0</td>\n",
       "      <td>0</td>\n",
       "      <td>0</td>\n",
       "      <td>1</td>\n",
       "    </tr>\n",
       "  </tbody>\n",
       "</table>\n",
       "<p>2500 rows × 44 columns</p>\n",
       "</div>"
      ],
      "text/plain": [
       "      годовой доход  налоговые льготы  количество открытых счетов  \\\n",
       "0               0.0               0.0                         9.0   \n",
       "1          231838.0               0.0                         6.0   \n",
       "2         1152540.0               0.0                        10.0   \n",
       "3         1220313.0               0.0                        16.0   \n",
       "4         2340952.0               0.0                        11.0   \n",
       "...             ...               ...                         ...   \n",
       "2495      1020053.0               0.0                        14.0   \n",
       "2496            0.0               0.0                        15.0   \n",
       "2497      1171806.0               0.0                        48.0   \n",
       "2498       723520.0               0.0                        14.0   \n",
       "2499      1694439.0               0.0                        12.0   \n",
       "\n",
       "      количество лет кредитной истории  наибольший открытый кредит  \\\n",
       "0                                 12.5                    220968.0   \n",
       "1                                 32.7                     55946.0   \n",
       "2                                 13.7                    204600.0   \n",
       "3                                 17.0                    456302.0   \n",
       "4                                 23.6                   1207272.0   \n",
       "...                                ...                         ...   \n",
       "2495                              29.1                    559152.0   \n",
       "2496                              17.0                   1737780.0   \n",
       "2497                              12.8                   1706430.0   \n",
       "2498                              28.8                    945780.0   \n",
       "2499                              18.4                   1199748.0   \n",
       "\n",
       "      количество проблем с кредитом  \\\n",
       "0                               0.0   \n",
       "1                               0.0   \n",
       "2                               0.0   \n",
       "3                               0.0   \n",
       "4                               0.0   \n",
       "...                             ...   \n",
       "2495                            1.0   \n",
       "2496                            0.0   \n",
       "2497                            0.0   \n",
       "2498                            0.0   \n",
       "2499                            1.0   \n",
       "\n",
       "      количество месяцев с последней просрочки платежа  банкротства  \\\n",
       "0                                                 70.0          0.0   \n",
       "1                                                  8.0          0.0   \n",
       "2                                                  0.0          0.0   \n",
       "3                                                 70.0          0.0   \n",
       "4                                                  0.0          0.0   \n",
       "...                                                ...          ...   \n",
       "2495                                              68.0          1.0   \n",
       "2496                                              77.0          0.0   \n",
       "2497                                               0.0          0.0   \n",
       "2498                                               0.0          0.0   \n",
       "2499                                              72.0          0.0   \n",
       "\n",
       "      текущая сумма кредита  текущий кредитный баланс  ...  цель кредита_6  \\\n",
       "0                  162470.0                  105906.0  ...               0   \n",
       "1                   78298.0                   46037.0  ...               0   \n",
       "2                  200178.0                  146490.0  ...               0   \n",
       "3                  217382.0                  213199.0  ...               0   \n",
       "4                  777634.0                  425391.0  ...               0   \n",
       "...                     ...                       ...  ...             ...   \n",
       "2495             99999999.0                  162735.0  ...               0   \n",
       "2496               468512.0                 1439269.0  ...               0   \n",
       "2497               430496.0                  676438.0  ...               0   \n",
       "2498               257774.0                  391248.0  ...               0   \n",
       "2499               763004.0                  559531.0  ...               0   \n",
       "\n",
       "      цель кредита_7  цель кредита_8  цель кредита_9  цель кредита_10  \\\n",
       "0                  0               0               0                0   \n",
       "1                  0               0               0                0   \n",
       "2                  0               0               0                0   \n",
       "3                  0               0               0                0   \n",
       "4                  0               0               0                0   \n",
       "...              ...             ...             ...              ...   \n",
       "2495               0               0               0                0   \n",
       "2496               0               0               0                0   \n",
       "2497               0               0               0                0   \n",
       "2498               0               0               0                0   \n",
       "2499               0               0               0                0   \n",
       "\n",
       "      цель кредита_11  цель кредита_12  цель кредита_13  срок кредита_0  \\\n",
       "0                   0                0                0               1   \n",
       "1                   0                0                0               1   \n",
       "2                   0                0                0               1   \n",
       "3                   0                0                0               1   \n",
       "4                   0                0                0               0   \n",
       "...               ...              ...              ...             ...   \n",
       "2495                0                0                0               1   \n",
       "2496                0                0                0               1   \n",
       "2497                0                0                0               1   \n",
       "2498                0                0                0               1   \n",
       "2499                0                0                0               0   \n",
       "\n",
       "      срок кредита_1  \n",
       "0                  0  \n",
       "1                  0  \n",
       "2                  0  \n",
       "3                  0  \n",
       "4                  1  \n",
       "...              ...  \n",
       "2495               0  \n",
       "2496               0  \n",
       "2497               0  \n",
       "2498               0  \n",
       "2499               1  \n",
       "\n",
       "[2500 rows x 44 columns]"
      ]
     },
     "execution_count": 50,
     "metadata": {},
     "output_type": "execute_result"
    }
   ],
   "source": [
    "data_test"
   ]
  },
  {
   "cell_type": "code",
   "execution_count": 51,
   "id": "97b9a461",
   "metadata": {},
   "outputs": [
    {
     "data": {
      "text/html": [
       "<div>\n",
       "<style scoped>\n",
       "    .dataframe tbody tr th:only-of-type {\n",
       "        vertical-align: middle;\n",
       "    }\n",
       "\n",
       "    .dataframe tbody tr th {\n",
       "        vertical-align: top;\n",
       "    }\n",
       "\n",
       "    .dataframe thead th {\n",
       "        text-align: right;\n",
       "    }\n",
       "</style>\n",
       "<table border=\"1\" class=\"dataframe\">\n",
       "  <thead>\n",
       "    <tr style=\"text-align: right;\">\n",
       "      <th></th>\n",
       "      <th>id</th>\n",
       "      <th>Credit Default</th>\n",
       "    </tr>\n",
       "  </thead>\n",
       "  <tbody>\n",
       "    <tr>\n",
       "      <th>0</th>\n",
       "      <td>0</td>\n",
       "      <td>1</td>\n",
       "    </tr>\n",
       "    <tr>\n",
       "      <th>1</th>\n",
       "      <td>1</td>\n",
       "      <td>1</td>\n",
       "    </tr>\n",
       "    <tr>\n",
       "      <th>2</th>\n",
       "      <td>2</td>\n",
       "      <td>1</td>\n",
       "    </tr>\n",
       "    <tr>\n",
       "      <th>3</th>\n",
       "      <td>3</td>\n",
       "      <td>0</td>\n",
       "    </tr>\n",
       "    <tr>\n",
       "      <th>4</th>\n",
       "      <td>4</td>\n",
       "      <td>0</td>\n",
       "    </tr>\n",
       "    <tr>\n",
       "      <th>...</th>\n",
       "      <td>...</td>\n",
       "      <td>...</td>\n",
       "    </tr>\n",
       "    <tr>\n",
       "      <th>2495</th>\n",
       "      <td>2495</td>\n",
       "      <td>0</td>\n",
       "    </tr>\n",
       "    <tr>\n",
       "      <th>2496</th>\n",
       "      <td>2496</td>\n",
       "      <td>1</td>\n",
       "    </tr>\n",
       "    <tr>\n",
       "      <th>2497</th>\n",
       "      <td>2497</td>\n",
       "      <td>1</td>\n",
       "    </tr>\n",
       "    <tr>\n",
       "      <th>2498</th>\n",
       "      <td>2498</td>\n",
       "      <td>0</td>\n",
       "    </tr>\n",
       "    <tr>\n",
       "      <th>2499</th>\n",
       "      <td>2499</td>\n",
       "      <td>1</td>\n",
       "    </tr>\n",
       "  </tbody>\n",
       "</table>\n",
       "<p>2500 rows × 2 columns</p>\n",
       "</div>"
      ],
      "text/plain": [
       "        id  Credit Default\n",
       "0        0               1\n",
       "1        1               1\n",
       "2        2               1\n",
       "3        3               0\n",
       "4        4               0\n",
       "...    ...             ...\n",
       "2495  2495               0\n",
       "2496  2496               1\n",
       "2497  2497               1\n",
       "2498  2498               0\n",
       "2499  2499               1\n",
       "\n",
       "[2500 rows x 2 columns]"
      ]
     },
     "execution_count": 51,
     "metadata": {},
     "output_type": "execute_result"
    }
   ],
   "source": [
    "y_pred_test_data = pd.DataFrame(data_test.index, columns=['id'])\n",
    "y_pred_test_data['Credit Default'] = np.asarray([np.where(line>0.3274, 1, 0) for line in xgb.predict_proba(data_test)[:, 1]])\n",
    "y_pred_test_data"
   ]
  },
  {
   "cell_type": "code",
   "execution_count": 52,
   "id": "9a2d0309",
   "metadata": {},
   "outputs": [
    {
     "data": {
      "text/html": [
       "<div>\n",
       "<style scoped>\n",
       "    .dataframe tbody tr th:only-of-type {\n",
       "        vertical-align: middle;\n",
       "    }\n",
       "\n",
       "    .dataframe tbody tr th {\n",
       "        vertical-align: top;\n",
       "    }\n",
       "\n",
       "    .dataframe thead th {\n",
       "        text-align: right;\n",
       "    }\n",
       "</style>\n",
       "<table border=\"1\" class=\"dataframe\">\n",
       "  <thead>\n",
       "    <tr style=\"text-align: right;\">\n",
       "      <th></th>\n",
       "      <th>id</th>\n",
       "      <th>Credit Default</th>\n",
       "    </tr>\n",
       "  </thead>\n",
       "  <tbody>\n",
       "    <tr>\n",
       "      <th>0</th>\n",
       "      <td>0</td>\n",
       "      <td>1</td>\n",
       "    </tr>\n",
       "    <tr>\n",
       "      <th>1</th>\n",
       "      <td>1</td>\n",
       "      <td>1</td>\n",
       "    </tr>\n",
       "    <tr>\n",
       "      <th>2</th>\n",
       "      <td>2</td>\n",
       "      <td>1</td>\n",
       "    </tr>\n",
       "    <tr>\n",
       "      <th>3</th>\n",
       "      <td>3</td>\n",
       "      <td>0</td>\n",
       "    </tr>\n",
       "    <tr>\n",
       "      <th>4</th>\n",
       "      <td>4</td>\n",
       "      <td>0</td>\n",
       "    </tr>\n",
       "    <tr>\n",
       "      <th>...</th>\n",
       "      <td>...</td>\n",
       "      <td>...</td>\n",
       "    </tr>\n",
       "    <tr>\n",
       "      <th>2495</th>\n",
       "      <td>2495</td>\n",
       "      <td>0</td>\n",
       "    </tr>\n",
       "    <tr>\n",
       "      <th>2496</th>\n",
       "      <td>2496</td>\n",
       "      <td>1</td>\n",
       "    </tr>\n",
       "    <tr>\n",
       "      <th>2497</th>\n",
       "      <td>2497</td>\n",
       "      <td>1</td>\n",
       "    </tr>\n",
       "    <tr>\n",
       "      <th>2498</th>\n",
       "      <td>2498</td>\n",
       "      <td>0</td>\n",
       "    </tr>\n",
       "    <tr>\n",
       "      <th>2499</th>\n",
       "      <td>2499</td>\n",
       "      <td>1</td>\n",
       "    </tr>\n",
       "  </tbody>\n",
       "</table>\n",
       "<p>2500 rows × 2 columns</p>\n",
       "</div>"
      ],
      "text/plain": [
       "        id  Credit Default\n",
       "0        0               1\n",
       "1        1               1\n",
       "2        2               1\n",
       "3        3               0\n",
       "4        4               0\n",
       "...    ...             ...\n",
       "2495  2495               0\n",
       "2496  2496               1\n",
       "2497  2497               1\n",
       "2498  2498               0\n",
       "2499  2499               1\n",
       "\n",
       "[2500 rows x 2 columns]"
      ]
     },
     "execution_count": 52,
     "metadata": {},
     "output_type": "execute_result"
    }
   ],
   "source": [
    "y_pred_test_data.to_csv('PMakov_predictions.csv', index=False)\n",
    "x = pd.read_csv('PMakov_predictions.csv')\n",
    "x"
   ]
  }
 ],
 "metadata": {
  "kernelspec": {
   "display_name": "Python 3",
   "language": "python",
   "name": "python3"
  },
  "language_info": {
   "codemirror_mode": {
    "name": "ipython",
    "version": 3
   },
   "file_extension": ".py",
   "mimetype": "text/x-python",
   "name": "python",
   "nbconvert_exporter": "python",
   "pygments_lexer": "ipython3",
   "version": "3.8.8"
  }
 },
 "nbformat": 4,
 "nbformat_minor": 5
}
