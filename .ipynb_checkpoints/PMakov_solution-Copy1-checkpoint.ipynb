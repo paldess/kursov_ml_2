{
 "cells": [
  {
   "cell_type": "code",
   "execution_count": 1,
   "id": "f8d62634",
   "metadata": {},
   "outputs": [],
   "source": [
    "import numpy as np\n",
    "import pandas as pd\n",
    "import matplotlib.pyplot as plt\n",
    "%matplotlib inline\n",
    "import warnings\n",
    "warnings.simplefilter('ignore')\n",
    "import seaborn as sns\n",
    "from sklearn.model_selection import train_test_split\n",
    "from sklearn.metrics import f1_score, recall_score, precision_score, confusion_matrix, classification_report, accuracy_score"
   ]
  },
  {
   "cell_type": "code",
   "execution_count": 2,
   "id": "d0c20d94",
   "metadata": {},
   "outputs": [],
   "source": [
    "plt.rcParams['figure.figsize']=(25, 8)"
   ]
  },
  {
   "cell_type": "code",
   "execution_count": 3,
   "id": "f4d0d05a",
   "metadata": {},
   "outputs": [
    {
     "name": "stdout",
     "output_type": "stream",
     "text": [
      "<class 'pandas.core.frame.DataFrame'>\n",
      "RangeIndex: 7500 entries, 0 to 7499\n",
      "Data columns (total 17 columns):\n",
      " #   Column                        Non-Null Count  Dtype  \n",
      "---  ------                        --------------  -----  \n",
      " 0   Home Ownership                7500 non-null   object \n",
      " 1   Annual Income                 5943 non-null   float64\n",
      " 2   Years in current job          7129 non-null   object \n",
      " 3   Tax Liens                     7500 non-null   float64\n",
      " 4   Number of Open Accounts       7500 non-null   float64\n",
      " 5   Years of Credit History       7500 non-null   float64\n",
      " 6   Maximum Open Credit           7500 non-null   float64\n",
      " 7   Number of Credit Problems     7500 non-null   float64\n",
      " 8   Months since last delinquent  3419 non-null   float64\n",
      " 9   Bankruptcies                  7486 non-null   float64\n",
      " 10  Purpose                       7500 non-null   object \n",
      " 11  Term                          7500 non-null   object \n",
      " 12  Current Loan Amount           7500 non-null   float64\n",
      " 13  Current Credit Balance        7500 non-null   float64\n",
      " 14  Monthly Debt                  7500 non-null   float64\n",
      " 15  Credit Score                  5943 non-null   float64\n",
      " 16  Credit Default                7500 non-null   int64  \n",
      "dtypes: float64(12), int64(1), object(4)\n",
      "memory usage: 996.2+ KB\n"
     ]
    }
   ],
   "source": [
    "data_read = pd.read_csv('course_project_train.csv')\n",
    "data_read.info()"
   ]
  },
  {
   "cell_type": "code",
   "execution_count": 4,
   "id": "fa29b2b0",
   "metadata": {},
   "outputs": [],
   "source": [
    "def renams(data):\n",
    "    name_columns = {'Home Ownership': 'домовладение', 'Annual Income': 'годовой доход', 'Years in current job': 'количество лет на текущем месте работы',\n",
    "            'Maximum Open Credit': 'наибольший открытый кредит', 'Number of Credit Problems': 'количество проблем с кредитом',\n",
    "            'Months since last delinquent': 'количество месяцев с последней просрочки платежа', 'Bankruptcies': 'банкротства',\n",
    "            'Purpose': 'цель кредита', 'Term': 'срок кредита', 'Current Loan Amount': 'текущая сумма кредита',\n",
    "            'Current Credit Balance': 'текущий кредитный баланс', 'Monthly Debt': 'ежемесячный долг', 'Credit Score': 'кредитный рейтинг',\n",
    "            'Credit Default': '0 - погашен вовремя, 1 - просрочка', 'Tax Liens': 'налоговые льготы', \n",
    "           'Number of Open Accounts': 'количество открытых счетов', 'Years of Credit History': 'количество лет кредитной истории'}\n",
    "    data.rename(columns=name_columns, inplace=True)\n",
    "    return data"
   ]
  },
  {
   "cell_type": "code",
   "execution_count": 5,
   "id": "729e40ba",
   "metadata": {},
   "outputs": [],
   "source": [
    "data_read = renams(data_read)"
   ]
  },
  {
   "cell_type": "code",
   "execution_count": 6,
   "id": "d89b0277",
   "metadata": {},
   "outputs": [],
   "source": [
    "data_read['кредитный рейтинг'][data_read['кредитный рейтинг']> 1000] = 0"
   ]
  },
  {
   "cell_type": "markdown",
   "id": "2b75ac68",
   "metadata": {},
   "source": [
    "### data, target "
   ]
  },
  {
   "cell_type": "code",
   "execution_count": 7,
   "id": "e28696b8",
   "metadata": {},
   "outputs": [],
   "source": [
    "data = data_read.drop('0 - погашен вовремя, 1 - просрочка', axis=1)\n",
    "target = data_read['0 - погашен вовремя, 1 - просрочка']"
   ]
  },
  {
   "cell_type": "markdown",
   "id": "8ce128f7",
   "metadata": {},
   "source": [
    "### dummy переменные"
   ]
  },
  {
   "cell_type": "code",
   "execution_count": 8,
   "id": "cab8ce4a",
   "metadata": {},
   "outputs": [],
   "source": [
    "def dummy(data, name):\n",
    "    x = data[name].unique()\n",
    "    for i in range(len(data[name].unique())):\n",
    "        y = name+'_'+ str(i)\n",
    "        data[y] = 3\n",
    "        data[y][data[name]==x[i]] = 1\n",
    "        data[y][data[name]!=x[i]] = 0\n",
    "    data.drop(name, axis=1, inplace=True)\n",
    "            \n",
    "            \n",
    "# dummy('домовладение')"
   ]
  },
  {
   "cell_type": "markdown",
   "id": "3e94f22e",
   "metadata": {},
   "source": [
    "### заполнение пропусков"
   ]
  },
  {
   "cell_type": "code",
   "execution_count": 9,
   "id": "c512cff5",
   "metadata": {},
   "outputs": [],
   "source": [
    "def god_dohod(data):\n",
    "    data['годовой доход'].fillna(0, inplace=True)\n",
    "    data['кредитный рейтинг'].fillna(0, inplace=True)\n",
    "    data['банкротства'].fillna(0, inplace=True)\n",
    "    data['количество месяцев с последней просрочки платежа'].fillna(0, inplace=True)\n",
    "    return data"
   ]
  },
  {
   "cell_type": "markdown",
   "id": "48bcf939",
   "metadata": {},
   "source": [
    "### "
   ]
  },
  {
   "cell_type": "code",
   "execution_count": 10,
   "id": "83dacab7",
   "metadata": {},
   "outputs": [
    {
     "name": "stdout",
     "output_type": "stream",
     "text": [
      "<class 'pandas.core.frame.DataFrame'>\n",
      "RangeIndex: 7500 entries, 0 to 7499\n",
      "Data columns (total 45 columns):\n",
      " #   Column                                            Non-Null Count  Dtype  \n",
      "---  ------                                            --------------  -----  \n",
      " 0   годовой доход                                     7500 non-null   float64\n",
      " 1   налоговые льготы                                  7500 non-null   float64\n",
      " 2   количество открытых счетов                        7500 non-null   float64\n",
      " 3   количество лет кредитной истории                  7500 non-null   float64\n",
      " 4   наибольший открытый кредит                        7500 non-null   float64\n",
      " 5   количество проблем с кредитом                     7500 non-null   float64\n",
      " 6   количество месяцев с последней просрочки платежа  7500 non-null   float64\n",
      " 7   банкротства                                       7500 non-null   float64\n",
      " 8   текущая сумма кредита                             7500 non-null   float64\n",
      " 9   текущий кредитный баланс                          7500 non-null   float64\n",
      " 10  ежемесячный долг                                  7500 non-null   float64\n",
      " 11  кредитный рейтинг                                 7500 non-null   float64\n",
      " 12  домовладение_0                                    7500 non-null   int64  \n",
      " 13  домовладение_1                                    7500 non-null   int64  \n",
      " 14  домовладение_2                                    7500 non-null   int64  \n",
      " 15  домовладение_3                                    7500 non-null   int64  \n",
      " 16  количество лет на текущем месте работы_0          7500 non-null   int64  \n",
      " 17  количество лет на текущем месте работы_1          7500 non-null   int64  \n",
      " 18  количество лет на текущем месте работы_2          7500 non-null   int64  \n",
      " 19  количество лет на текущем месте работы_3          7500 non-null   int64  \n",
      " 20  количество лет на текущем месте работы_4          7500 non-null   int64  \n",
      " 21  количество лет на текущем месте работы_5          7500 non-null   int64  \n",
      " 22  количество лет на текущем месте работы_6          7500 non-null   int64  \n",
      " 23  количество лет на текущем месте работы_7          7500 non-null   int64  \n",
      " 24  количество лет на текущем месте работы_8          7500 non-null   int64  \n",
      " 25  количество лет на текущем месте работы_9          7500 non-null   int64  \n",
      " 26  количество лет на текущем месте работы_10         7500 non-null   int64  \n",
      " 27  количество лет на текущем месте работы_11         7500 non-null   int64  \n",
      " 28  цель кредита_0                                    7500 non-null   int64  \n",
      " 29  цель кредита_1                                    7500 non-null   int64  \n",
      " 30  цель кредита_2                                    7500 non-null   int64  \n",
      " 31  цель кредита_3                                    7500 non-null   int64  \n",
      " 32  цель кредита_4                                    7500 non-null   int64  \n",
      " 33  цель кредита_5                                    7500 non-null   int64  \n",
      " 34  цель кредита_6                                    7500 non-null   int64  \n",
      " 35  цель кредита_7                                    7500 non-null   int64  \n",
      " 36  цель кредита_8                                    7500 non-null   int64  \n",
      " 37  цель кредита_9                                    7500 non-null   int64  \n",
      " 38  цель кредита_10                                   7500 non-null   int64  \n",
      " 39  цель кредита_11                                   7500 non-null   int64  \n",
      " 40  цель кредита_12                                   7500 non-null   int64  \n",
      " 41  цель кредита_13                                   7500 non-null   int64  \n",
      " 42  цель кредита_14                                   7500 non-null   int64  \n",
      " 43  срок кредита_0                                    7500 non-null   int64  \n",
      " 44  срок кредита_1                                    7500 non-null   int64  \n",
      "dtypes: float64(12), int64(33)\n",
      "memory usage: 2.6 MB\n"
     ]
    }
   ],
   "source": [
    "data = god_dohod(data)\n",
    "dummy(data, 'домовладение')\n",
    "dummy(data, 'количество лет на текущем месте работы')\n",
    "dummy(data, 'цель кредита')\n",
    "dummy(data, 'срок кредита')\n",
    "data.info()"
   ]
  },
  {
   "cell_type": "markdown",
   "id": "98836728",
   "metadata": {},
   "source": [
    "### проба без обработки данных"
   ]
  },
  {
   "cell_type": "code",
   "execution_count": 11,
   "id": "649914ab",
   "metadata": {
    "scrolled": false
   },
   "outputs": [],
   "source": [
    "x_train, x_test, y_train, y_test = train_test_split(data, target, test_size=0.3, random_state=42)\n",
    "from xgboost import XGBClassifier\n"
   ]
  },
  {
   "cell_type": "code",
   "execution_count": 12,
   "id": "4de6af5a",
   "metadata": {
    "scrolled": false
   },
   "outputs": [
    {
     "name": "stdout",
     "output_type": "stream",
     "text": [
      "[06:42:07] WARNING: ..\\src\\learner.cc:541: \n",
      "Parameters: { verbocity } might not be used.\n",
      "\n",
      "  This may not be accurate due to some parameters are only used in language bindings but\n",
      "  passed down to XGBoost core.  Or some parameters are not used but slip through this\n",
      "  verification. Please open an issue if you find above cases.\n",
      "\n",
      "\n",
      "[06:42:07] WARNING: ..\\src\\learner.cc:1061: Starting in XGBoost 1.3.0, the default evaluation metric used with the objective 'binary:logistic' was changed from 'error' to 'logloss'. Explicitly set eval_metric if you'd like to restore the old behavior.\n",
      "[06:42:08] WARNING: ..\\src\\learner.cc:541: \n",
      "Parameters: { verbocity } might not be used.\n",
      "\n",
      "  This may not be accurate due to some parameters are only used in language bindings but\n",
      "  passed down to XGBoost core.  Or some parameters are not used but slip through this\n",
      "  verification. Please open an issue if you find above cases.\n",
      "\n",
      "\n",
      "[06:42:08] WARNING: ..\\src\\learner.cc:1061: Starting in XGBoost 1.3.0, the default evaluation metric used with the objective 'binary:logistic' was changed from 'error' to 'logloss'. Explicitly set eval_metric if you'd like to restore the old behavior.\n",
      "              precision    recall  f1-score   support\n",
      "\n",
      "           0       0.78      0.88      0.83      1592\n",
      "           1       0.58      0.39      0.47       658\n",
      "\n",
      "    accuracy                           0.74      2250\n",
      "   macro avg       0.68      0.64      0.65      2250\n",
      "weighted avg       0.72      0.74      0.72      2250\n",
      "\n"
     ]
    },
    {
     "data": {
      "image/png": "[encoded data removed]",
      "text/plain": [
       "<Figure size 1800x576 with 1 Axes>"
      ]
     },
     "metadata": {
      "needs_background": "light"
     },
     "output_type": "display_data"
    }
   ],
   "source": [
    "qwe = []\n",
    "qw = []\n",
    "q = (i/1000 for i in range(605, 607))\n",
    "for i in q:\n",
    "    xgb = XGBClassifier(eta=0.62, verbocity=0, max_depth=8, n_jobs=7)\n",
    "    xgb.fit(x_train, y_train)\n",
    "    y_pred = xgb.predict(x_test)\n",
    "    qw.append(f1_score(y_test, y_pred))\n",
    "    qwe.append(i)\n",
    "print(classification_report(y_test, y_pred))\n",
    "plt.plot(qwe, qw)\n",
    "plt.show()"
   ]
  },
  {
   "cell_type": "code",
   "execution_count": 13,
   "id": "56213ebf",
   "metadata": {},
   "outputs": [
    {
     "data": {
      "text/plain": [
       "0.46750902527075816"
      ]
     },
     "execution_count": 13,
     "metadata": {},
     "output_type": "execute_result"
    }
   ],
   "source": [
    "f1_score(y_test, y_pred)"
   ]
  },
  {
   "cell_type": "markdown",
   "id": "7d4769c0",
   "metadata": {},
   "source": [
    "### подготовка данных"
   ]
  },
  {
   "cell_type": "code",
   "execution_count": 14,
   "id": "06f29665",
   "metadata": {},
   "outputs": [],
   "source": [
    "from scipy.stats import shapiro, ttest_ind, chi2, mannwhitneyu"
   ]
  },
  {
   "cell_type": "code",
   "execution_count": 15,
   "id": "b04b5679",
   "metadata": {},
   "outputs": [
    {
     "name": "stdout",
     "output_type": "stream",
     "text": [
      "годовой доход норм\n",
      "налоговые льготы норм\n",
      "количество открытых счетов норм\n",
      "количество лет кредитной истории норм\n",
      "наибольший открытый кредит норм\n",
      "количество проблем с кредитом удаляем\n",
      "количество месяцев с последней просрочки платежа удаляем\n",
      "банкротства удаляем\n",
      "текущая сумма кредита норм\n",
      "текущий кредитный баланс удаляем\n",
      "ежемесячный долг норм\n",
      "кредитный рейтинг норм\n"
     ]
    }
   ],
   "source": [
    "del_data = []\n",
    "good_data = []\n",
    "for i in data.keys():\n",
    "    if len(data[i].unique())>2:\n",
    "        if shapiro(data[i]).pvalue > 0.05:\n",
    "            print(i , 'норм' if ttest_ind(data[i][target == 0], data[i][target == 1]).pvalue <= 0.05 else 'удаляем')\n",
    "            good_data.append(i) if ttest_ind(data[i][target == 0], data[i][target == 1]).pvalue <= 0.05 else del_data.append(i)\n",
    "        elif shapiro(data[i]).pvalue < 0.05:\n",
    "            print(i , 'норм' if mannwhitneyu(data[i][target == 0], data[i][target == 1]).pvalue <= 0.05 else 'удаляем')\n",
    "            good_data.append(i) if mannwhitneyu(data[i][target == 0], data[i][target == 1]).pvalue <= 0.05 else del_data.append(i)\n",
    "    "
   ]
  },
  {
   "cell_type": "code",
   "execution_count": 16,
   "id": "707d8d0d",
   "metadata": {},
   "outputs": [
    {
     "data": {
      "text/plain": [
       "(['количество проблем с кредитом',\n",
       "  'количество месяцев с последней просрочки платежа',\n",
       "  'банкротства',\n",
       "  'текущий кредитный баланс'],\n",
       " ['годовой доход',\n",
       "  'налоговые льготы',\n",
       "  'количество открытых счетов',\n",
       "  'количество лет кредитной истории',\n",
       "  'наибольший открытый кредит',\n",
       "  'текущая сумма кредита',\n",
       "  'ежемесячный долг',\n",
       "  'кредитный рейтинг'])"
      ]
     },
     "execution_count": 16,
     "metadata": {},
     "output_type": "execute_result"
    }
   ],
   "source": [
    "del_data, good_data"
   ]
  },
  {
   "cell_type": "code",
   "execution_count": 17,
   "id": "58953ce8",
   "metadata": {},
   "outputs": [],
   "source": [
    "# data.drop(del_data, axis=1, inplace=True)"
   ]
  },
  {
   "cell_type": "markdown",
   "id": "a92ff4b3",
   "metadata": {},
   "source": [
    "### нахождение важности признаков через RandomForestClassifier"
   ]
  },
  {
   "cell_type": "code",
   "execution_count": 18,
   "id": "4670536e",
   "metadata": {},
   "outputs": [],
   "source": [
    "from sklearn.ensemble import RandomForestClassifier\n",
    "rfc = RandomForestClassifier(random_state=10)\n",
    "rfc.fit(data, target)\n",
    "y_pred_rfc = rfc.predict(data)"
   ]
  },
  {
   "cell_type": "code",
   "execution_count": 19,
   "id": "0f3e8bff",
   "metadata": {},
   "outputs": [
    {
     "data": {
      "text/plain": [
       "1.0"
      ]
     },
     "execution_count": 19,
     "metadata": {},
     "output_type": "execute_result"
    }
   ],
   "source": [
    "accuracy_score(target, y_pred_rfc)"
   ]
  },
  {
   "cell_type": "code",
   "execution_count": 20,
   "id": "1d69733f",
   "metadata": {},
   "outputs": [
    {
     "data": {
      "text/plain": [
       "<BarContainer object of 45 artists>"
      ]
     },
     "execution_count": 20,
     "metadata": {},
     "output_type": "execute_result"
    },
    {
     "data": {
      "image/png": "[encoded data removed]",
      "text/plain": [
       "<Figure size 1440x360 with 1 Axes>"
      ]
     },
     "metadata": {
      "needs_background": "light"
     },
     "output_type": "display_data"
    }
   ],
   "source": [
    "plt.figure(figsize=(20, 5))\n",
    "plt.bar(data.keys(), rfc.feature_importances_)"
   ]
  },
  {
   "cell_type": "code",
   "execution_count": 21,
   "id": "ab15c2ed",
   "metadata": {},
   "outputs": [
    {
     "data": {
      "text/html": [
       "<div>\n",
       "<style scoped>\n",
       "    .dataframe tbody tr th:only-of-type {\n",
       "        vertical-align: middle;\n",
       "    }\n",
       "\n",
       "    .dataframe tbody tr th {\n",
       "        vertical-align: top;\n",
       "    }\n",
       "\n",
       "    .dataframe thead th {\n",
       "        text-align: right;\n",
       "    }\n",
       "</style>\n",
       "<table border=\"1\" class=\"dataframe\">\n",
       "  <thead>\n",
       "    <tr style=\"text-align: right;\">\n",
       "      <th></th>\n",
       "      <th>w</th>\n",
       "      <th>key</th>\n",
       "    </tr>\n",
       "  </thead>\n",
       "  <tbody>\n",
       "    <tr>\n",
       "      <th>0</th>\n",
       "      <td>0.103426</td>\n",
       "      <td>годовой доход</td>\n",
       "    </tr>\n",
       "    <tr>\n",
       "      <th>1</th>\n",
       "      <td>0.003315</td>\n",
       "      <td>налоговые льготы</td>\n",
       "    </tr>\n",
       "    <tr>\n",
       "      <th>2</th>\n",
       "      <td>0.063836</td>\n",
       "      <td>количество открытых счетов</td>\n",
       "    </tr>\n",
       "    <tr>\n",
       "      <th>3</th>\n",
       "      <td>0.082806</td>\n",
       "      <td>количество лет кредитной истории</td>\n",
       "    </tr>\n",
       "    <tr>\n",
       "      <th>4</th>\n",
       "      <td>0.089092</td>\n",
       "      <td>наибольший открытый кредит</td>\n",
       "    </tr>\n",
       "    <tr>\n",
       "      <th>5</th>\n",
       "      <td>0.011854</td>\n",
       "      <td>количество проблем с кредитом</td>\n",
       "    </tr>\n",
       "    <tr>\n",
       "      <th>6</th>\n",
       "      <td>0.049093</td>\n",
       "      <td>количество месяцев с последней просрочки платежа</td>\n",
       "    </tr>\n",
       "    <tr>\n",
       "      <th>7</th>\n",
       "      <td>0.007903</td>\n",
       "      <td>банкротства</td>\n",
       "    </tr>\n",
       "    <tr>\n",
       "      <th>8</th>\n",
       "      <td>0.118292</td>\n",
       "      <td>текущая сумма кредита</td>\n",
       "    </tr>\n",
       "    <tr>\n",
       "      <th>9</th>\n",
       "      <td>0.087772</td>\n",
       "      <td>текущий кредитный баланс</td>\n",
       "    </tr>\n",
       "    <tr>\n",
       "      <th>10</th>\n",
       "      <td>0.088189</td>\n",
       "      <td>ежемесячный долг</td>\n",
       "    </tr>\n",
       "    <tr>\n",
       "      <th>11</th>\n",
       "      <td>0.130339</td>\n",
       "      <td>кредитный рейтинг</td>\n",
       "    </tr>\n",
       "    <tr>\n",
       "      <th>12</th>\n",
       "      <td>0.005772</td>\n",
       "      <td>домовладение_0</td>\n",
       "    </tr>\n",
       "    <tr>\n",
       "      <th>13</th>\n",
       "      <td>0.008076</td>\n",
       "      <td>домовладение_1</td>\n",
       "    </tr>\n",
       "    <tr>\n",
       "      <th>14</th>\n",
       "      <td>0.008621</td>\n",
       "      <td>домовладение_2</td>\n",
       "    </tr>\n",
       "    <tr>\n",
       "      <th>15</th>\n",
       "      <td>0.000287</td>\n",
       "      <td>домовладение_3</td>\n",
       "    </tr>\n",
       "    <tr>\n",
       "      <th>16</th>\n",
       "      <td>0.000000</td>\n",
       "      <td>количество лет на текущем месте работы_0</td>\n",
       "    </tr>\n",
       "    <tr>\n",
       "      <th>17</th>\n",
       "      <td>0.012056</td>\n",
       "      <td>количество лет на текущем месте работы_1</td>\n",
       "    </tr>\n",
       "    <tr>\n",
       "      <th>18</th>\n",
       "      <td>0.005711</td>\n",
       "      <td>количество лет на текущем месте работы_2</td>\n",
       "    </tr>\n",
       "    <tr>\n",
       "      <th>19</th>\n",
       "      <td>0.006369</td>\n",
       "      <td>количество лет на текущем месте работы_3</td>\n",
       "    </tr>\n",
       "    <tr>\n",
       "      <th>20</th>\n",
       "      <td>0.005268</td>\n",
       "      <td>количество лет на текущем месте работы_4</td>\n",
       "    </tr>\n",
       "    <tr>\n",
       "      <th>21</th>\n",
       "      <td>0.006773</td>\n",
       "      <td>количество лет на текущем месте работы_5</td>\n",
       "    </tr>\n",
       "    <tr>\n",
       "      <th>22</th>\n",
       "      <td>0.006487</td>\n",
       "      <td>количество лет на текущем месте работы_6</td>\n",
       "    </tr>\n",
       "    <tr>\n",
       "      <th>23</th>\n",
       "      <td>0.007237</td>\n",
       "      <td>количество лет на текущем месте работы_7</td>\n",
       "    </tr>\n",
       "    <tr>\n",
       "      <th>24</th>\n",
       "      <td>0.006051</td>\n",
       "      <td>количество лет на текущем месте работы_8</td>\n",
       "    </tr>\n",
       "    <tr>\n",
       "      <th>25</th>\n",
       "      <td>0.006924</td>\n",
       "      <td>количество лет на текущем месте работы_9</td>\n",
       "    </tr>\n",
       "    <tr>\n",
       "      <th>26</th>\n",
       "      <td>0.007637</td>\n",
       "      <td>количество лет на текущем месте работы_10</td>\n",
       "    </tr>\n",
       "    <tr>\n",
       "      <th>27</th>\n",
       "      <td>0.004980</td>\n",
       "      <td>количество лет на текущем месте работы_11</td>\n",
       "    </tr>\n",
       "    <tr>\n",
       "      <th>28</th>\n",
       "      <td>0.009378</td>\n",
       "      <td>цель кредита_0</td>\n",
       "    </tr>\n",
       "    <tr>\n",
       "      <th>29</th>\n",
       "      <td>0.007205</td>\n",
       "      <td>цель кредита_1</td>\n",
       "    </tr>\n",
       "    <tr>\n",
       "      <th>30</th>\n",
       "      <td>0.004809</td>\n",
       "      <td>цель кредита_2</td>\n",
       "    </tr>\n",
       "    <tr>\n",
       "      <th>31</th>\n",
       "      <td>0.000828</td>\n",
       "      <td>цель кредита_3</td>\n",
       "    </tr>\n",
       "    <tr>\n",
       "      <th>32</th>\n",
       "      <td>0.001994</td>\n",
       "      <td>цель кредита_4</td>\n",
       "    </tr>\n",
       "    <tr>\n",
       "      <th>33</th>\n",
       "      <td>0.001160</td>\n",
       "      <td>цель кредита_5</td>\n",
       "    </tr>\n",
       "    <tr>\n",
       "      <th>34</th>\n",
       "      <td>0.003960</td>\n",
       "      <td>цель кредита_6</td>\n",
       "    </tr>\n",
       "    <tr>\n",
       "      <th>35</th>\n",
       "      <td>0.000566</td>\n",
       "      <td>цель кредита_7</td>\n",
       "    </tr>\n",
       "    <tr>\n",
       "      <th>36</th>\n",
       "      <td>0.000210</td>\n",
       "      <td>цель кредита_8</td>\n",
       "    </tr>\n",
       "    <tr>\n",
       "      <th>37</th>\n",
       "      <td>0.000833</td>\n",
       "      <td>цель кредита_9</td>\n",
       "    </tr>\n",
       "    <tr>\n",
       "      <th>38</th>\n",
       "      <td>0.002868</td>\n",
       "      <td>цель кредита_10</td>\n",
       "    </tr>\n",
       "    <tr>\n",
       "      <th>39</th>\n",
       "      <td>0.000223</td>\n",
       "      <td>цель кредита_11</td>\n",
       "    </tr>\n",
       "    <tr>\n",
       "      <th>40</th>\n",
       "      <td>0.001142</td>\n",
       "      <td>цель кредита_12</td>\n",
       "    </tr>\n",
       "    <tr>\n",
       "      <th>41</th>\n",
       "      <td>0.000505</td>\n",
       "      <td>цель кредита_13</td>\n",
       "    </tr>\n",
       "    <tr>\n",
       "      <th>42</th>\n",
       "      <td>0.000211</td>\n",
       "      <td>цель кредита_14</td>\n",
       "    </tr>\n",
       "    <tr>\n",
       "      <th>43</th>\n",
       "      <td>0.014147</td>\n",
       "      <td>срок кредита_0</td>\n",
       "    </tr>\n",
       "    <tr>\n",
       "      <th>44</th>\n",
       "      <td>0.015798</td>\n",
       "      <td>срок кредита_1</td>\n",
       "    </tr>\n",
       "  </tbody>\n",
       "</table>\n",
       "</div>"
      ],
      "text/plain": [
       "           w                                               key\n",
       "0   0.103426                                     годовой доход\n",
       "1   0.003315                                  налоговые льготы\n",
       "2   0.063836                        количество открытых счетов\n",
       "3   0.082806                  количество лет кредитной истории\n",
       "4   0.089092                        наибольший открытый кредит\n",
       "5   0.011854                     количество проблем с кредитом\n",
       "6   0.049093  количество месяцев с последней просрочки платежа\n",
       "7   0.007903                                       банкротства\n",
       "8   0.118292                             текущая сумма кредита\n",
       "9   0.087772                          текущий кредитный баланс\n",
       "10  0.088189                                  ежемесячный долг\n",
       "11  0.130339                                 кредитный рейтинг\n",
       "12  0.005772                                    домовладение_0\n",
       "13  0.008076                                    домовладение_1\n",
       "14  0.008621                                    домовладение_2\n",
       "15  0.000287                                    домовладение_3\n",
       "16  0.000000          количество лет на текущем месте работы_0\n",
       "17  0.012056          количество лет на текущем месте работы_1\n",
       "18  0.005711          количество лет на текущем месте работы_2\n",
       "19  0.006369          количество лет на текущем месте работы_3\n",
       "20  0.005268          количество лет на текущем месте работы_4\n",
       "21  0.006773          количество лет на текущем месте работы_5\n",
       "22  0.006487          количество лет на текущем месте работы_6\n",
       "23  0.007237          количество лет на текущем месте работы_7\n",
       "24  0.006051          количество лет на текущем месте работы_8\n",
       "25  0.006924          количество лет на текущем месте работы_9\n",
       "26  0.007637         количество лет на текущем месте работы_10\n",
       "27  0.004980         количество лет на текущем месте работы_11\n",
       "28  0.009378                                    цель кредита_0\n",
       "29  0.007205                                    цель кредита_1\n",
       "30  0.004809                                    цель кредита_2\n",
       "31  0.000828                                    цель кредита_3\n",
       "32  0.001994                                    цель кредита_4\n",
       "33  0.001160                                    цель кредита_5\n",
       "34  0.003960                                    цель кредита_6\n",
       "35  0.000566                                    цель кредита_7\n",
       "36  0.000210                                    цель кредита_8\n",
       "37  0.000833                                    цель кредита_9\n",
       "38  0.002868                                   цель кредита_10\n",
       "39  0.000223                                   цель кредита_11\n",
       "40  0.001142                                   цель кредита_12\n",
       "41  0.000505                                   цель кредита_13\n",
       "42  0.000211                                   цель кредита_14\n",
       "43  0.014147                                    срок кредита_0\n",
       "44  0.015798                                    срок кредита_1"
      ]
     },
     "execution_count": 21,
     "metadata": {},
     "output_type": "execute_result"
    }
   ],
   "source": [
    "rfc_importence = pd.DataFrame()\n",
    "rfc_importence['w'] = rfc.feature_importances_\n",
    "rfc_importence['key'] = data.keys()\n",
    "rfc_importence"
   ]
  },
  {
   "cell_type": "markdown",
   "id": "e02b97be",
   "metadata": {},
   "source": [
    "### удаление не важных признаков."
   ]
  },
  {
   "cell_type": "code",
   "execution_count": 28,
   "id": "dcd2e1a8",
   "metadata": {},
   "outputs": [
    {
     "name": "stdout",
     "output_type": "stream",
     "text": [
      "              precision    recall  f1-score   support\n",
      "\n",
      "           0       0.77      0.87      0.82      1592\n",
      "           1       0.55      0.38      0.45       658\n",
      "\n",
      "    accuracy                           0.73      2250\n",
      "   macro avg       0.66      0.63      0.64      2250\n",
      "weighted avg       0.71      0.73      0.71      2250\n",
      "\n"
     ]
    },
    {
     "data": {
      "image/png": "[encoded data removed]",
      "text/plain": [
       "<Figure size 1800x576 with 1 Axes>"
      ]
     },
     "metadata": {
      "needs_background": "light"
     },
     "output_type": "display_data"
    }
   ],
   "source": [
    "# находим параметр удаления признаков\n",
    "\n",
    "qw = []\n",
    "q = [i/1000 for i in range(10, 100)]\n",
    "for i in q:\n",
    "    data_1 = data.copy()\n",
    "    data_1.drop(list(rfc_importence['key'][rfc_importence['w']<i]), axis=1, inplace=True)\n",
    "    x_train, x_test, y_train, y_test = train_test_split(data_1, target, test_size=0.3, random_state=42)\n",
    "    xgb = XGBClassifier(eta=0.62,  verbosity=0, max_depth=8, n_jobs=7)\n",
    "    xgb.fit(x_train, y_train)\n",
    "    y_pred = xgb.predict(x_test)\n",
    "    qw.append(f1_score(y_test, y_pred))\n",
    "print(classification_report(y_test, y_pred))\n",
    "plt.plot(q, qw)\n",
    "plt.show()"
   ]
  },
  {
   "cell_type": "markdown",
   "id": "9dff2d94",
   "metadata": {},
   "source": [
    "### удаляем"
   ]
  },
  {
   "cell_type": "code",
   "execution_count": null,
   "id": "f91c63a1",
   "metadata": {},
   "outputs": [],
   "source": [
    "data.drop(list(rfc_importence['key'][rfc_importence['w']<0.012]), axis=1, inplace=True)"
   ]
  },
  {
   "cell_type": "markdown",
   "id": "5d6f2f88",
   "metadata": {},
   "source": [
    "### подбор параметров через графики"
   ]
  },
  {
   "cell_type": "code",
   "execution_count": 30,
   "id": "cd138955",
   "metadata": {
    "scrolled": false
   },
   "outputs": [
    {
     "name": "stdout",
     "output_type": "stream",
     "text": [
      "              precision    recall  f1-score   support\n",
      "\n",
      "           0       0.78      0.90      0.83      1592\n",
      "           1       0.60      0.37      0.46       658\n",
      "\n",
      "    accuracy                           0.74      2250\n",
      "   macro avg       0.69      0.63      0.65      2250\n",
      "weighted avg       0.72      0.74      0.72      2250\n",
      "\n"
     ]
    },
    {
     "data": {
      "image/png": "[encoded data removed]",
      "text/plain": [
       "<Figure size 1800x576 with 1 Axes>"
      ]
     },
     "metadata": {
      "needs_background": "light"
     },
     "output_type": "display_data"
    }
   ],
   "source": [
    "\n",
    "x_train, x_test, y_train, y_test = train_test_split(data, target, test_size=0.3, random_state=42)\n",
    "qw = []\n",
    "q = [i/1000 for i in range(10, 20)]\n",
    "for i in q:\n",
    "    xgb = XGBClassifier(eta=0.62, n_estimators=14, verbosity=0, max_depth=8, n_jobs=7, reg_alpha=0.001) \n",
    "    # eta=0.01, max_depth=3, verbosity=0,  n_estimators=14, n_jobs=7, reg_alpha=0.001\n",
    "    xgb.fit(x_train, y_train)\n",
    "    y_pred = xgb.predict(x_test)\n",
    "    qw.append(f1_score(y_test, y_pred))\n",
    "print(classification_report(y_test, y_pred))\n",
    "plt.plot(q, qw)\n",
    "plt.show()"
   ]
  },
  {
   "cell_type": "code",
   "execution_count": 31,
   "id": "98ec86a8",
   "metadata": {},
   "outputs": [
    {
     "data": {
      "text/html": [
       "<div>\n",
       "<style scoped>\n",
       "    .dataframe tbody tr th:only-of-type {\n",
       "        vertical-align: middle;\n",
       "    }\n",
       "\n",
       "    .dataframe tbody tr th {\n",
       "        vertical-align: top;\n",
       "    }\n",
       "\n",
       "    .dataframe thead th {\n",
       "        text-align: right;\n",
       "    }\n",
       "</style>\n",
       "<table border=\"1\" class=\"dataframe\">\n",
       "  <thead>\n",
       "    <tr style=\"text-align: right;\">\n",
       "      <th></th>\n",
       "      <th>1</th>\n",
       "      <th>2</th>\n",
       "    </tr>\n",
       "  </thead>\n",
       "  <tbody>\n",
       "    <tr>\n",
       "      <th>0</th>\n",
       "      <td>0.039548</td>\n",
       "      <td>0.960452</td>\n",
       "    </tr>\n",
       "    <tr>\n",
       "      <th>1</th>\n",
       "      <td>0.931493</td>\n",
       "      <td>0.068507</td>\n",
       "    </tr>\n",
       "    <tr>\n",
       "      <th>2</th>\n",
       "      <td>0.790115</td>\n",
       "      <td>0.209885</td>\n",
       "    </tr>\n",
       "    <tr>\n",
       "      <th>3</th>\n",
       "      <td>0.720497</td>\n",
       "      <td>0.279503</td>\n",
       "    </tr>\n",
       "    <tr>\n",
       "      <th>4</th>\n",
       "      <td>0.999078</td>\n",
       "      <td>0.000922</td>\n",
       "    </tr>\n",
       "    <tr>\n",
       "      <th>...</th>\n",
       "      <td>...</td>\n",
       "      <td>...</td>\n",
       "    </tr>\n",
       "    <tr>\n",
       "      <th>2245</th>\n",
       "      <td>0.759497</td>\n",
       "      <td>0.240503</td>\n",
       "    </tr>\n",
       "    <tr>\n",
       "      <th>2246</th>\n",
       "      <td>0.035925</td>\n",
       "      <td>0.964075</td>\n",
       "    </tr>\n",
       "    <tr>\n",
       "      <th>2247</th>\n",
       "      <td>0.855769</td>\n",
       "      <td>0.144231</td>\n",
       "    </tr>\n",
       "    <tr>\n",
       "      <th>2248</th>\n",
       "      <td>0.084554</td>\n",
       "      <td>0.915446</td>\n",
       "    </tr>\n",
       "    <tr>\n",
       "      <th>2249</th>\n",
       "      <td>0.997243</td>\n",
       "      <td>0.002757</td>\n",
       "    </tr>\n",
       "  </tbody>\n",
       "</table>\n",
       "<p>2250 rows × 2 columns</p>\n",
       "</div>"
      ],
      "text/plain": [
       "             1         2\n",
       "0     0.039548  0.960452\n",
       "1     0.931493  0.068507\n",
       "2     0.790115  0.209885\n",
       "3     0.720497  0.279503\n",
       "4     0.999078  0.000922\n",
       "...        ...       ...\n",
       "2245  0.759497  0.240503\n",
       "2246  0.035925  0.964075\n",
       "2247  0.855769  0.144231\n",
       "2248  0.084554  0.915446\n",
       "2249  0.997243  0.002757\n",
       "\n",
       "[2250 rows x 2 columns]"
      ]
     },
     "execution_count": 31,
     "metadata": {},
     "output_type": "execute_result"
    }
   ],
   "source": [
    "y_proba = xgb.predict_proba(x_test)\n",
    "y_proba = pd.DataFrame(y_proba, columns=['1', '2'])\n",
    "y_proba"
   ]
  },
  {
   "cell_type": "code",
   "execution_count": 32,
   "id": "e2c663f8",
   "metadata": {},
   "outputs": [
    {
     "data": {
      "image/png": "[encoded data removed]",
      "text/plain": [
       "<Figure size 1800x576 with 1 Axes>"
      ]
     },
     "metadata": {
      "needs_background": "light"
     },
     "output_type": "display_data"
    }
   ],
   "source": [
    "rec = []\n",
    "pre = []\n",
    "f11 = []\n",
    "qw = []\n",
    "q = (i/100 for i in range(10, 90))\n",
    "for i in q:\n",
    "    y_pred_proba = np.asarray([np.where(line>i, 1, 0) for line in y_proba['2']])\n",
    "    rec.append(recall_score(y_test, y_pred_proba))\n",
    "    pre.append(precision_score(y_test, y_pred_proba))\n",
    "    f11.append(f1_score(y_test, y_pred_proba))\n",
    "    qw.append(i)\n",
    "y_pred_proba\n",
    "\n",
    "plt.plot(qw, rec, label='recall')\n",
    "plt.plot(qw, pre, label='precision')\n",
    "plt.plot(qw, f11, label='f1')\n",
    "plt.legend()\n",
    "plt.grid()\n",
    "plt.show()"
   ]
  },
  {
   "cell_type": "code",
   "execution_count": null,
   "id": "17ce7e5f",
   "metadata": {},
   "outputs": [],
   "source": [
    "y_pred_train = xgb.predict_proba(x_train)\n",
    "y_pred_train = pd.DataFrame(y_pred_train, columns=['1', '2'])\n",
    "y_pred_train_ = np.asarray([np.where(line>0.470, 1, 0) for line in y_pred_train['2']])\n",
    "y_pred_proba = np.asarray([np.where(line>0.470, 1, 0) for line in y_proba['2']])\n",
    "print(f1_score(y_test, y_pred_proba))\n",
    "print(f1_score(y_train, y_pred_train_))\n",
    "print(classification_report(y_test, y_pred_proba))"
   ]
  },
  {
   "cell_type": "code",
   "execution_count": null,
   "id": "278596df",
   "metadata": {},
   "outputs": [],
   "source": [
    "aaaa"
   ]
  },
  {
   "cell_type": "markdown",
   "id": "e8cdeac8",
   "metadata": {},
   "source": [
    "### подбор гиперпараметров"
   ]
  },
  {
   "cell_type": "code",
   "execution_count": null,
   "id": "1e6acbbf",
   "metadata": {},
   "outputs": [],
   "source": [
    "# %time\n",
    "# from sklearn.model_selection import GridSearchCV\n",
    "# parametrs = { 'n_estimators': range(10, 30),\n",
    "#               'max_depth': range(1,5),\n",
    "#               'eta': [i/100 for i in range(1, 80, 5)],\n",
    "#               'reg_alpha': [i/1000 for i in range(1, 100, 10)]}\n",
    "# grid = GridSearchCV(xgb, parametrs, cv=3, verbose=10, refit=True)\n",
    "# grid.fit(data, target)\n",
    "# grid.best_params_"
   ]
  },
  {
   "cell_type": "code",
   "execution_count": null,
   "id": "ee32d718",
   "metadata": {},
   "outputs": [],
   "source": [
    "{'eta': 0.01, 'max_depth': 3, 'n_estimators': 14, 'reg_alpha': 0.001}"
   ]
  },
  {
   "cell_type": "markdown",
   "id": "e6e3a666",
   "metadata": {},
   "source": [
    "### окончательная модель"
   ]
  },
  {
   "cell_type": "code",
   "execution_count": null,
   "id": "d561e58d",
   "metadata": {},
   "outputs": [],
   "source": [
    "xgb = XGBClassifier(eta=0.01, max_depth=3, verbosity=0,  n_estimators=14, n_jobs=7, reg_alpha=0.001)\n",
    "xgb.fit(data, target)\n",
    "y_pred_train_ = np.asarray([np.where(line>0.470, 1, 0) for line in xgb.predict_proba(data)[:, 1]])\n",
    "f1_score(target, y_pred_train_), accuracy_score(target, y_pred_train_)"
   ]
  },
  {
   "cell_type": "code",
   "execution_count": null,
   "id": "5015a7a0",
   "metadata": {},
   "outputs": [],
   "source": [
    "data_test = pd.read_csv('course_project_test.csv')\n",
    "data_test = renams(data_test)\n",
    "data_test = god_dohod(data_test)\n",
    "# data_test.drop(del_data, axis=1, inplace=True)\n",
    "data_test['кредитный рейтинг'][data_test['кредитный рейтинг']> 1000] = 0\n",
    "dummy(data_test, 'домовладение')\n",
    "dummy(data_test, 'количество лет на текущем месте работы')\n",
    "dummy(data_test, 'цель кредита')\n",
    "dummy(data_test, 'срок кредита')\n",
    "data_test"
   ]
  },
  {
   "cell_type": "code",
   "execution_count": null,
   "id": "be67961c",
   "metadata": {},
   "outputs": [],
   "source": [
    "\n",
    "data_test['цель кредита_14'] = 0\n",
    "data_test.drop(list(rfc_importence['key'][rfc_importence['w']<0.014]), axis=1, inplace=True)"
   ]
  },
  {
   "cell_type": "code",
   "execution_count": null,
   "id": "dad73664",
   "metadata": {},
   "outputs": [],
   "source": [
    "print(data_test.keys(), len(data_test.keys()))\n",
    "print(data.keys(), len(data.keys()))"
   ]
  },
  {
   "cell_type": "code",
   "execution_count": null,
   "id": "97b9a461",
   "metadata": {},
   "outputs": [],
   "source": [
    "y_pred_test_data = pd.DataFrame(data_test.index, columns=['id'])\n",
    "y_pred_test_data['Credit Default'] = np.asarray([np.where(line>0.469, 1, 0) for line in xgb.predict_proba(data_test)[:, 1]])\n",
    "y_pred_test_data"
   ]
  },
  {
   "cell_type": "code",
   "execution_count": null,
   "id": "9a2d0309",
   "metadata": {},
   "outputs": [],
   "source": [
    "y_pred_test_data.to_csv('PMakov_predictions.csv', index=False)\n",
    "x = pd.read_csv('PMakov_predictions.csv')\n",
    "x"
   ]
  }
 ],
 "metadata": {
  "kernelspec": {
   "display_name": "Python 3",
   "language": "python",
   "name": "python3"
  },
  "language_info": {
   "codemirror_mode": {
    "name": "ipython",
    "version": 3
   },
   "file_extension": ".py",
   "mimetype": "text/x-python",
   "name": "python",
   "nbconvert_exporter": "python",
   "pygments_lexer": "ipython3",
   "version": "3.8.8"
  }
 },
 "nbformat": 4,
 "nbformat_minor": 5
}
